{
 "cells": [
  {
   "cell_type": "code",
   "execution_count": 1,
   "metadata": {},
   "outputs": [],
   "source": [
    "%load_ext autoreload\n",
    "%autoreload 2"
   ]
  },
  {
   "cell_type": "code",
   "execution_count": 2,
   "metadata": {},
   "outputs": [],
   "source": [
    "import numpy as np\n",
    "from hidmed import *\n",
    "import pickle\n",
    "import matplotlib.pyplot as plt"
   ]
  },
  {
   "cell_type": "code",
   "execution_count": 3,
   "metadata": {
    "scrolled": true
   },
   "outputs": [],
   "source": [
    "def tune_parameters(xdim, zdim, wdim, mdim, udim, setup, n, folds=1, seed=0):\n",
    "    \"\"\"Tune the parameters of the estimators for a given setup.\"\"\"\n",
    "    assert setup in [\"a\", \"b\", \"c\"], \"Invalid setup. Must be 'a', 'b', or 'c'.\"\n",
    "    datagen = LinearHidMedDGP(xdim, zdim, wdim, mdim, udim, setup=setup, seed=seed)\n",
    "    dataset = datagen.sample_dataset(n, seed=seed + 1)\n",
    "    estimator = ProximalMultiplyRobust(\n",
    "        generalized_model=\"c\",\n",
    "        folds=folds,\n",
    "        num_runs=200,\n",
    "        n_jobs=1,\n",
    "    )\n",
    "    estimator.fit(dataset)\n",
    "    \n",
    "    ProximalMultiplyRobust(\n",
    "        generalized_model=\"c\",\n",
    "        folds=folds,\n",
    "        num_runs=200,\n",
    "        n_jobs=1,\n",
    "        treatment=estimator.params[\"treatment\"],\n",
    "        h=estimator.params[\"h\"],\n",
    "        q=estimator.params[\"q\"],\n",
    "        eta=estimator.params[\"eta\"],\n",
    "    ).fit(dataset)\n",
    "    print(\"^PMR\")\n",
    "\n",
    "    ProximalOutcomeRegression(\n",
    "        generalized_model=(setup == \"b\" or setup == \"c\"),\n",
    "        folds=folds,\n",
    "        num_runs=200,\n",
    "        n_jobs=1,\n",
    "        treatment=estimator.params[\"treatment\"],\n",
    "        h=estimator.params[\"h\"],\n",
    "        eta=estimator.params[\"eta\"],\n",
    "    ).fit(dataset)\n",
    "    print(\"^POR\")\n",
    "\n",
    "    ProximalInverseProbWeighting(\n",
    "        generalized_model=(setup == \"b\" or setup == \"c\"),\n",
    "        folds=folds,\n",
    "        num_runs=200,\n",
    "        n_jobs=1,\n",
    "        q=estimator.params[\"q\"],\n",
    "    ).fit(dataset)\n",
    "    print(\"^PIPW\")\n",
    "\n",
    "    print(\"true psi:\", datagen.true_psi())\n",
    "    return estimator.params\n",
    "\n",
    "\n",
    "# tuned_parameters = {}\n",
    "# for n in np.arange(300, 7000, 900):\n",
    "#     # 1d-case\n",
    "#     print(\"1d-case, n =\", n)\n",
    "#     tuned_parameters[1, n] = tune_parameters(1, 1, 1, 1, 1, \"c\", n, folds=2)\n",
    "#     # 5d-case\n",
    "#     print(\"5d-case, n =\", n)\n",
    "#     tuned_parameters[5, n] = tune_parameters(5, 2, 2, 2, 1, \"c\", n, folds=2)\n",
    "#     print(\"\\n\")\n",
    "\n",
    "# pickle.dump(tuned_parameters, open(\"assets/tuned_parameters.pkl\", \"wb\"))"
   ]
  },
  {
   "cell_type": "code",
   "execution_count": 4,
   "metadata": {
    "scrolled": true
   },
   "outputs": [
    {
     "name": "stdout",
     "output_type": "stream",
     "text": [
      "==== Cross-fitting fold 1 (1000/2000 fit/eval)\n",
      "Bridge h params: {'lambda1': 0.0001, 'lambda2': 5703199.7181949, 'gamma': 0.0297475} score:  -1.1e-06\n"
     ]
    },
    {
     "name": "stderr",
     "output_type": "stream",
     "text": [
      "/home/users/yalan/.local/lib/python3.9/site-packages/sklearn/base.py:1474: ConvergenceWarning: Number of distinct clusters (2) found smaller than n_clusters (3). Possibly due to duplicate points in X.\n",
      "  return fit_method(estimator, *args, **kwargs)\n",
      "/home/users/yalan/.local/lib/python3.9/site-packages/sklearn/base.py:1474: ConvergenceWarning: Number of distinct clusters (2) found smaller than n_clusters (3). Possibly due to duplicate points in X.\n",
      "  return fit_method(estimator, *args, **kwargs)\n",
      "/home/users/yalan/.local/lib/python3.9/site-packages/sklearn/base.py:1474: ConvergenceWarning: Number of distinct clusters (2) found smaller than n_clusters (3). Possibly due to duplicate points in X.\n",
      "  return fit_method(estimator, *args, **kwargs)\n",
      "/home/users/yalan/.local/lib/python3.9/site-packages/sklearn/base.py:1474: ConvergenceWarning: Number of distinct clusters (1) found smaller than n_clusters (3). Possibly due to duplicate points in X.\n",
      "  return fit_method(estimator, *args, **kwargs)\n",
      "/home/users/yalan/.local/lib/python3.9/site-packages/sklearn/base.py:1474: ConvergenceWarning: Number of distinct clusters (1) found smaller than n_clusters (3). Possibly due to duplicate points in X.\n",
      "  return fit_method(estimator, *args, **kwargs)\n",
      "/home/users/yalan/.local/lib/python3.9/site-packages/sklearn/base.py:1474: ConvergenceWarning: Number of distinct clusters (1) found smaller than n_clusters (3). Possibly due to duplicate points in X.\n",
      "  return fit_method(estimator, *args, **kwargs)\n",
      "/home/users/yalan/.local/lib/python3.9/site-packages/sklearn/base.py:1474: ConvergenceWarning: Number of distinct clusters (1) found smaller than n_clusters (3). Possibly due to duplicate points in X.\n",
      "  return fit_method(estimator, *args, **kwargs)\n",
      "/home/users/yalan/.local/lib/python3.9/site-packages/sklearn/base.py:1474: ConvergenceWarning: Number of distinct clusters (1) found smaller than n_clusters (3). Possibly due to duplicate points in X.\n",
      "  return fit_method(estimator, *args, **kwargs)\n",
      "/home/users/yalan/.local/lib/python3.9/site-packages/sklearn/base.py:1474: ConvergenceWarning: Number of distinct clusters (1) found smaller than n_clusters (3). Possibly due to duplicate points in X.\n",
      "  return fit_method(estimator, *args, **kwargs)\n",
      "/home/users/yalan/.local/lib/python3.9/site-packages/sklearn/base.py:1474: ConvergenceWarning: Number of distinct clusters (1) found smaller than n_clusters (3). Possibly due to duplicate points in X.\n",
      "  return fit_method(estimator, *args, **kwargs)\n",
      "/home/users/yalan/.local/lib/python3.9/site-packages/sklearn/base.py:1474: ConvergenceWarning: Number of distinct clusters (1) found smaller than n_clusters (3). Possibly due to duplicate points in X.\n",
      "  return fit_method(estimator, *args, **kwargs)\n",
      "/home/users/yalan/.local/lib/python3.9/site-packages/sklearn/base.py:1474: ConvergenceWarning: Number of distinct clusters (1) found smaller than n_clusters (3). Possibly due to duplicate points in X.\n",
      "  return fit_method(estimator, *args, **kwargs)\n",
      "/home/users/yalan/.local/lib/python3.9/site-packages/sklearn/base.py:1474: ConvergenceWarning: Number of distinct clusters (1) found smaller than n_clusters (3). Possibly due to duplicate points in X.\n",
      "  return fit_method(estimator, *args, **kwargs)\n",
      "/home/users/yalan/.local/lib/python3.9/site-packages/sklearn/base.py:1474: ConvergenceWarning: Number of distinct clusters (1) found smaller than n_clusters (3). Possibly due to duplicate points in X.\n",
      "  return fit_method(estimator, *args, **kwargs)\n",
      "/home/users/yalan/.local/lib/python3.9/site-packages/sklearn/base.py:1474: ConvergenceWarning: Number of distinct clusters (1) found smaller than n_clusters (3). Possibly due to duplicate points in X.\n",
      "  return fit_method(estimator, *args, **kwargs)\n",
      "/home/users/yalan/.local/lib/python3.9/site-packages/sklearn/base.py:1474: ConvergenceWarning: Number of distinct clusters (1) found smaller than n_clusters (3). Possibly due to duplicate points in X.\n",
      "  return fit_method(estimator, *args, **kwargs)\n",
      "/home/users/yalan/.local/lib/python3.9/site-packages/sklearn/base.py:1474: ConvergenceWarning: Number of distinct clusters (1) found smaller than n_clusters (3). Possibly due to duplicate points in X.\n",
      "  return fit_method(estimator, *args, **kwargs)\n",
      "/home/users/yalan/.local/lib/python3.9/site-packages/sklearn/base.py:1474: ConvergenceWarning: Number of distinct clusters (1) found smaller than n_clusters (3). Possibly due to duplicate points in X.\n",
      "  return fit_method(estimator, *args, **kwargs)\n",
      "/home/users/yalan/.local/lib/python3.9/site-packages/sklearn/base.py:1474: ConvergenceWarning: Number of distinct clusters (1) found smaller than n_clusters (3). Possibly due to duplicate points in X.\n",
      "  return fit_method(estimator, *args, **kwargs)\n",
      "/home/users/yalan/.local/lib/python3.9/site-packages/sklearn/base.py:1474: ConvergenceWarning: Number of distinct clusters (1) found smaller than n_clusters (3). Possibly due to duplicate points in X.\n",
      "  return fit_method(estimator, *args, **kwargs)\n",
      "/home/users/yalan/.local/lib/python3.9/site-packages/sklearn/base.py:1474: ConvergenceWarning: Number of distinct clusters (1) found smaller than n_clusters (3). Possibly due to duplicate points in X.\n",
      "  return fit_method(estimator, *args, **kwargs)\n",
      "/home/users/yalan/.local/lib/python3.9/site-packages/sklearn/base.py:1474: ConvergenceWarning: Number of distinct clusters (1) found smaller than n_clusters (3). Possibly due to duplicate points in X.\n",
      "  return fit_method(estimator, *args, **kwargs)\n",
      "/home/users/yalan/.local/lib/python3.9/site-packages/sklearn/base.py:1474: ConvergenceWarning: Number of distinct clusters (1) found smaller than n_clusters (3). Possibly due to duplicate points in X.\n",
      "  return fit_method(estimator, *args, **kwargs)\n",
      "/home/users/yalan/.local/lib/python3.9/site-packages/sklearn/base.py:1474: ConvergenceWarning: Number of distinct clusters (1) found smaller than n_clusters (3). Possibly due to duplicate points in X.\n",
      "  return fit_method(estimator, *args, **kwargs)\n",
      "/home/users/yalan/.local/lib/python3.9/site-packages/sklearn/base.py:1474: ConvergenceWarning: Number of distinct clusters (1) found smaller than n_clusters (3). Possibly due to duplicate points in X.\n",
      "  return fit_method(estimator, *args, **kwargs)\n",
      "/home/users/yalan/.local/lib/python3.9/site-packages/sklearn/base.py:1474: ConvergenceWarning: Number of distinct clusters (1) found smaller than n_clusters (3). Possibly due to duplicate points in X.\n",
      "  return fit_method(estimator, *args, **kwargs)\n",
      "/home/users/yalan/.local/lib/python3.9/site-packages/sklearn/base.py:1474: ConvergenceWarning: Number of distinct clusters (1) found smaller than n_clusters (3). Possibly due to duplicate points in X.\n",
      "  return fit_method(estimator, *args, **kwargs)\n",
      "/home/users/yalan/.local/lib/python3.9/site-packages/sklearn/base.py:1474: ConvergenceWarning: Number of distinct clusters (1) found smaller than n_clusters (3). Possibly due to duplicate points in X.\n",
      "  return fit_method(estimator, *args, **kwargs)\n",
      "/home/users/yalan/.local/lib/python3.9/site-packages/sklearn/base.py:1474: ConvergenceWarning: Number of distinct clusters (1) found smaller than n_clusters (3). Possibly due to duplicate points in X.\n",
      "  return fit_method(estimator, *args, **kwargs)\n",
      "/home/users/yalan/.local/lib/python3.9/site-packages/sklearn/base.py:1474: ConvergenceWarning: Number of distinct clusters (1) found smaller than n_clusters (3). Possibly due to duplicate points in X.\n",
      "  return fit_method(estimator, *args, **kwargs)\n",
      "/home/users/yalan/.local/lib/python3.9/site-packages/sklearn/base.py:1474: ConvergenceWarning: Number of distinct clusters (1) found smaller than n_clusters (3). Possibly due to duplicate points in X.\n",
      "  return fit_method(estimator, *args, **kwargs)\n",
      "/home/users/yalan/.local/lib/python3.9/site-packages/sklearn/base.py:1474: ConvergenceWarning: Number of distinct clusters (1) found smaller than n_clusters (3). Possibly due to duplicate points in X.\n",
      "  return fit_method(estimator, *args, **kwargs)\n",
      "/home/users/yalan/.local/lib/python3.9/site-packages/sklearn/base.py:1474: ConvergenceWarning: Number of distinct clusters (1) found smaller than n_clusters (3). Possibly due to duplicate points in X.\n",
      "  return fit_method(estimator, *args, **kwargs)\n",
      "/home/users/yalan/.local/lib/python3.9/site-packages/sklearn/base.py:1474: ConvergenceWarning: Number of distinct clusters (1) found smaller than n_clusters (3). Possibly due to duplicate points in X.\n",
      "  return fit_method(estimator, *args, **kwargs)\n",
      "/home/users/yalan/.local/lib/python3.9/site-packages/sklearn/base.py:1474: ConvergenceWarning: Number of distinct clusters (1) found smaller than n_clusters (3). Possibly due to duplicate points in X.\n",
      "  return fit_method(estimator, *args, **kwargs)\n",
      "/home/users/yalan/.local/lib/python3.9/site-packages/sklearn/base.py:1474: ConvergenceWarning: Number of distinct clusters (1) found smaller than n_clusters (3). Possibly due to duplicate points in X.\n",
      "  return fit_method(estimator, *args, **kwargs)\n",
      "/home/users/yalan/.local/lib/python3.9/site-packages/sklearn/base.py:1474: ConvergenceWarning: Number of distinct clusters (1) found smaller than n_clusters (3). Possibly due to duplicate points in X.\n",
      "  return fit_method(estimator, *args, **kwargs)\n"
     ]
    },
    {
     "name": "stderr",
     "output_type": "stream",
     "text": [
      "/home/users/yalan/.local/lib/python3.9/site-packages/sklearn/base.py:1474: ConvergenceWarning: Number of distinct clusters (1) found smaller than n_clusters (3). Possibly due to duplicate points in X.\n",
      "  return fit_method(estimator, *args, **kwargs)\n",
      "/home/users/yalan/.local/lib/python3.9/site-packages/sklearn/base.py:1474: ConvergenceWarning: Number of distinct clusters (1) found smaller than n_clusters (3). Possibly due to duplicate points in X.\n",
      "  return fit_method(estimator, *args, **kwargs)\n",
      "/home/users/yalan/.local/lib/python3.9/site-packages/sklearn/base.py:1474: ConvergenceWarning: Number of distinct clusters (1) found smaller than n_clusters (3). Possibly due to duplicate points in X.\n",
      "  return fit_method(estimator, *args, **kwargs)\n",
      "/home/users/yalan/.local/lib/python3.9/site-packages/sklearn/base.py:1474: ConvergenceWarning: Number of distinct clusters (1) found smaller than n_clusters (3). Possibly due to duplicate points in X.\n",
      "  return fit_method(estimator, *args, **kwargs)\n",
      "/home/users/yalan/.local/lib/python3.9/site-packages/sklearn/base.py:1474: ConvergenceWarning: Number of distinct clusters (1) found smaller than n_clusters (3). Possibly due to duplicate points in X.\n",
      "  return fit_method(estimator, *args, **kwargs)\n",
      "/home/users/yalan/.local/lib/python3.9/site-packages/sklearn/base.py:1474: ConvergenceWarning: Number of distinct clusters (1) found smaller than n_clusters (3). Possibly due to duplicate points in X.\n",
      "  return fit_method(estimator, *args, **kwargs)\n",
      "/home/users/yalan/.local/lib/python3.9/site-packages/sklearn/base.py:1474: ConvergenceWarning: Number of distinct clusters (1) found smaller than n_clusters (3). Possibly due to duplicate points in X.\n",
      "  return fit_method(estimator, *args, **kwargs)\n",
      "/home/users/yalan/.local/lib/python3.9/site-packages/sklearn/base.py:1474: ConvergenceWarning: Number of distinct clusters (1) found smaller than n_clusters (3). Possibly due to duplicate points in X.\n",
      "  return fit_method(estimator, *args, **kwargs)\n",
      "/home/users/yalan/.local/lib/python3.9/site-packages/sklearn/base.py:1474: ConvergenceWarning: Number of distinct clusters (1) found smaller than n_clusters (3). Possibly due to duplicate points in X.\n",
      "  return fit_method(estimator, *args, **kwargs)\n",
      "/home/users/yalan/.local/lib/python3.9/site-packages/sklearn/base.py:1474: ConvergenceWarning: Number of distinct clusters (1) found smaller than n_clusters (3). Possibly due to duplicate points in X.\n",
      "  return fit_method(estimator, *args, **kwargs)\n",
      "/home/users/yalan/.local/lib/python3.9/site-packages/sklearn/base.py:1474: ConvergenceWarning: Number of distinct clusters (1) found smaller than n_clusters (3). Possibly due to duplicate points in X.\n",
      "  return fit_method(estimator, *args, **kwargs)\n",
      "/home/users/yalan/.local/lib/python3.9/site-packages/sklearn/base.py:1474: ConvergenceWarning: Number of distinct clusters (1) found smaller than n_clusters (3). Possibly due to duplicate points in X.\n",
      "  return fit_method(estimator, *args, **kwargs)\n",
      "/home/users/yalan/.local/lib/python3.9/site-packages/sklearn/base.py:1474: ConvergenceWarning: Number of distinct clusters (1) found smaller than n_clusters (3). Possibly due to duplicate points in X.\n",
      "  return fit_method(estimator, *args, **kwargs)\n",
      "/home/users/yalan/.local/lib/python3.9/site-packages/sklearn/base.py:1474: ConvergenceWarning: Number of distinct clusters (1) found smaller than n_clusters (3). Possibly due to duplicate points in X.\n",
      "  return fit_method(estimator, *args, **kwargs)\n"
     ]
    },
    {
     "name": "stdout",
     "output_type": "stream",
     "text": [
      "Treatment prob params: {'C': 1000000.0, 'degree': 1} log_loss:  0.647\n",
      "Bridge q params: {'lambda1': 0.0005153, 'lambda2': 10000000.0, 'gamma': 0.0006049} score:  -3e-07\n",
      "eta params: {'alpha': 0.083, 'gamma': 4.466} r2:  0.983\n",
      "==== Estimate 1: 0.15060253735265774\n",
      "==== Cross-fitting fold 2 (1000/2000 fit/eval)\n",
      "Bridge h params: {'lambda1': 0.0001, 'lambda2': 5703199.7181949, 'gamma': 0.0297475} score:  nan\n",
      "Treatment prob params: {'C': 1000000.0, 'degree': 1} log_loss:  nan\n",
      "Bridge q params: {'lambda1': 0.0005153, 'lambda2': 10000000.0, 'gamma': 0.0006049} score:  nan\n",
      "eta params: {'alpha': 0.083, 'gamma': 4.466} r2:  nan\n",
      "==== Estimate 2: 0.19233300810680715\n",
      "==== Estimate: 0.17146777272973246\n",
      "==== Cross-fitting fold 1 (1000/2000 fit/eval)\n",
      "Bridge h params: {'lambda1': 0.0001, 'lambda2': 5703199.7181949, 'gamma': 0.0297475} score:  nan\n",
      "Treatment prob params: {'C': 1000000.0, 'degree': 1} log_loss:  nan\n",
      "Bridge q params: {'lambda1': 0.0005153, 'lambda2': 10000000.0, 'gamma': 0.0006049} score:  nan\n",
      "eta params: {'alpha': 0.083, 'gamma': 4.466} r2:  nan\n",
      "==== Estimate 1: 0.18205693265569772\n",
      "==== Cross-fitting fold 2 (1000/2000 fit/eval)\n",
      "Bridge h params: {'lambda1': 0.0001, 'lambda2': 5703199.7181949, 'gamma': 0.0297475} score:  nan\n",
      "Treatment prob params: {'C': 1000000.0, 'degree': 1} log_loss:  nan\n",
      "Bridge q params: {'lambda1': 0.0005153, 'lambda2': 10000000.0, 'gamma': 0.0006049} score:  nan\n",
      "eta params: {'alpha': 0.083, 'gamma': 4.466} r2:  nan\n",
      "==== Estimate 2: 0.15935979146186002\n",
      "==== Estimate: 0.17070836205877887\n",
      "^PMR\n",
      "==== Cross-fitting fold 1 (1000/2000 fit/eval)\n",
      "Bridge h params: {'lambda1': 0.0001, 'lambda2': 5703199.7181949, 'gamma': 0.0297475} score:  nan\n",
      "eta params: {'alpha': 0.083, 'gamma': 4.466} r2:  nan\n",
      "==== Estimate 1: 0.9266704826065176\n",
      "==== Cross-fitting fold 2 (1000/2000 fit/eval)\n",
      "Bridge h params: {'lambda1': 0.0001, 'lambda2': 5703199.7181949, 'gamma': 0.0297475} score:  nan\n",
      "eta params: {'alpha': 0.083, 'gamma': 4.466} r2:  nan\n",
      "==== Estimate 2: 1.0139962602325598\n",
      "==== Estimate: 0.9703333714195388\n",
      "^POR\n",
      "==== Cross-fitting fold 1 (1000/2000 fit/eval)\n",
      "Bridge q params: {'lambda1': 0.0005153, 'lambda2': 10000000.0, 'gamma': 0.0006049} score:  nan\n",
      "==== Estimate 1: 1.2885426309593575\n",
      "==== Cross-fitting fold 2 (1000/2000 fit/eval)\n",
      "Bridge q params: {'lambda1': 0.0005153, 'lambda2': 10000000.0, 'gamma': 0.0006049} score:  nan\n",
      "==== Estimate 2: 1.1906582297981891\n",
      "==== Estimate: 1.2396004303787733\n",
      "^PIPW\n",
      "true psi: 1.5288949197529045\n"
     ]
    },
    {
     "data": {
      "text/plain": [
       "{'treatment': {'C': 999999.9999999995, 'degree': 1},\n",
       " 'h': {'lambda1': 9.999999999999991e-05,\n",
       "  'lambda2': 5703199.7181949,\n",
       "  'gamma': 0.02974752241107422},\n",
       " 'q': {'lambda1': 0.0005152558350987109,\n",
       "  'lambda2': 10000000.000000006,\n",
       "  'gamma': 0.0006049134315092761},\n",
       " 'eta': {'alpha': 0.083380797668556, 'gamma': 4.4660821242259585}}"
      ]
     },
     "execution_count": 4,
     "metadata": {},
     "output_type": "execute_result"
    }
   ],
   "source": [
    "tune_parameters(1, 1, 1, 1, 1, \"a\", 3000, folds=2)"
   ]
  },
  {
   "cell_type": "code",
   "execution_count": 5,
   "metadata": {
    "scrolled": true
   },
   "outputs": [
    {
     "name": "stdout",
     "output_type": "stream",
     "text": [
      "==== Cross-fitting fold 1 (1000/2000 fit/eval)\n",
      "Bridge h params: {'lambda1': 28365.436189, 'lambda2': 10000000.0, 'gamma': 0.0001649} score:  -3.3e-06\n",
      "Treatment prob params: {'C': 1000000.0, 'degree': 2} log_loss:  0.652\n",
      "Bridge q params: {'lambda1': 0.0001, 'lambda2': 10000000.0, 'gamma': 100.0} score:  -3e-07\n",
      "eta params: {'alpha': 0.0, 'gamma': 0.083} r2:  0.974\n",
      "==== Estimate 1: -2.2812447048294247e-07\n",
      "==== Cross-fitting fold 2 (1000/2000 fit/eval)\n",
      "Bridge h params: {'lambda1': 28365.436189, 'lambda2': 10000000.0, 'gamma': 0.0001649} score:  nan\n",
      "Treatment prob params: {'C': 1000000.0, 'degree': 2} log_loss:  nan\n",
      "Bridge q params: {'lambda1': 0.0001, 'lambda2': 10000000.0, 'gamma': 100.0} score:  nan\n",
      "eta params: {'alpha': 0.0, 'gamma': 0.083} r2:  nan\n",
      "==== Estimate 2: 6.9100665167722105e-06\n",
      "==== Estimate: 3.340971023144634e-06\n",
      "==== Cross-fitting fold 1 (1000/2000 fit/eval)\n",
      "Bridge h params: {'lambda1': 28365.436189, 'lambda2': 10000000.0, 'gamma': 0.0001649} score:  nan\n",
      "Treatment prob params: {'C': 1000000.0, 'degree': 2} log_loss:  nan\n",
      "Bridge q params: {'lambda1': 0.0001, 'lambda2': 10000000.0, 'gamma': 100.0} score:  nan\n",
      "eta params: {'alpha': 0.0, 'gamma': 0.083} r2:  nan\n",
      "==== Estimate 1: 4.852439415041696e-06\n",
      "==== Cross-fitting fold 2 (1000/2000 fit/eval)\n",
      "Bridge h params: {'lambda1': 28365.436189, 'lambda2': 10000000.0, 'gamma': 0.0001649} score:  nan\n",
      "Treatment prob params: {'C': 1000000.0, 'degree': 2} log_loss:  nan\n",
      "Bridge q params: {'lambda1': 0.0001, 'lambda2': 10000000.0, 'gamma': 100.0} score:  nan\n",
      "eta params: {'alpha': 0.0, 'gamma': 0.083} r2:  nan\n",
      "==== Estimate 2: 6.64554382430652e-06\n",
      "==== Estimate: 5.7489916196741075e-06\n",
      "^PMR\n",
      "==== Cross-fitting fold 1 (1000/2000 fit/eval)\n",
      "Treatment prob params: {'C': 1000000.0, 'degree': 2} log_loss:  nan\n",
      "Bridge h params: {'lambda1': 28365.436189, 'lambda2': 10000000.0, 'gamma': 0.0001649} score:  nan\n",
      "eta params: {'alpha': 0.0, 'gamma': 0.083} r2:  nan\n",
      "==== Estimate 1: 4.205933390265588e-08\n",
      "==== Cross-fitting fold 2 (1000/2000 fit/eval)\n",
      "Treatment prob params: {'C': 1000000.0, 'degree': 2} log_loss:  nan\n",
      "Bridge h params: {'lambda1': 28365.436189, 'lambda2': 10000000.0, 'gamma': 0.0001649} score:  nan\n",
      "eta params: {'alpha': 0.0, 'gamma': 0.083} r2:  nan\n",
      "==== Estimate 2: 3.4412049881121044e-08\n",
      "==== Estimate: 3.823569189188846e-08\n",
      "^POR\n",
      "==== Cross-fitting fold 1 (1000/2000 fit/eval)\n",
      "Bridge q params: {'lambda1': 0.0001, 'lambda2': 10000000.0, 'gamma': 100.0} score:  nan\n",
      "==== Estimate 1: 3.798545792226341e-05\n",
      "==== Cross-fitting fold 2 (1000/2000 fit/eval)\n",
      "Bridge q params: {'lambda1': 0.0001, 'lambda2': 10000000.0, 'gamma': 100.0} score:  nan\n",
      "==== Estimate 2: 1.7309370732557737e-05\n",
      "==== Estimate: 2.7647414327410574e-05\n",
      "^PIPW\n",
      "true psi: -0.49286919666747864\n"
     ]
    },
    {
     "data": {
      "text/plain": [
       "{'treatment': {'C': 999999.9999999995, 'degree': 2},\n",
       " 'h': {'lambda1': 28365.436189038406,\n",
       "  'lambda2': 10000000.000000006,\n",
       "  'gamma': 0.00016487284992298685},\n",
       " 'q': {'lambda1': 9.999999999999991e-05,\n",
       "  'lambda2': 10000000.000000006,\n",
       "  'gamma': 100.00000000000004},\n",
       " 'eta': {'alpha': 3.936472099787732e-06, 'gamma': 0.0828211914607539}}"
      ]
     },
     "execution_count": 5,
     "metadata": {},
     "output_type": "execute_result"
    }
   ],
   "source": [
    "tune_parameters(1, 1, 1, 1, 1, \"b\", 3000, folds=2)"
   ]
  },
  {
   "cell_type": "code",
   "execution_count": 6,
   "metadata": {
    "scrolled": true
   },
   "outputs": [
    {
     "name": "stdout",
     "output_type": "stream",
     "text": [
      "==== Cross-fitting fold 1 (1000/2000 fit/eval)\n",
      "Bridge h params: {'lambda1': 673846.6261991, 'lambda2': 10000000.0, 'gamma': 47.024831} score:  -1.7e-06\n"
     ]
    },
    {
     "name": "stderr",
     "output_type": "stream",
     "text": [
      "/home/users/yalan/.local/lib/python3.9/site-packages/sklearn/base.py:1474: ConvergenceWarning: Number of distinct clusters (2) found smaller than n_clusters (3). Possibly due to duplicate points in X.\n",
      "  return fit_method(estimator, *args, **kwargs)\n",
      "/home/users/yalan/.local/lib/python3.9/site-packages/sklearn/base.py:1474: ConvergenceWarning: Number of distinct clusters (2) found smaller than n_clusters (3). Possibly due to duplicate points in X.\n",
      "  return fit_method(estimator, *args, **kwargs)\n"
     ]
    },
    {
     "name": "stdout",
     "output_type": "stream",
     "text": [
      "Treatment prob params: {'C': 1000000.0, 'degree': 2} log_loss:  0.652\n",
      "Bridge q params: {'lambda1': 0.0001, 'lambda2': 9687299.3223714, 'gamma': 0.0001083} score:  -1e-07\n",
      "eta params: {'alpha': 1.514, 'gamma': 21.544} r2:  0.059\n",
      "==== Estimate 1: 0.40288442664235774\n",
      "==== Cross-fitting fold 2 (1000/2000 fit/eval)\n",
      "Bridge h params: {'lambda1': 673846.6261991, 'lambda2': 10000000.0, 'gamma': 47.024831} score:  nan\n",
      "Treatment prob params: {'C': 1000000.0, 'degree': 2} log_loss:  nan\n",
      "Bridge q params: {'lambda1': 0.0001, 'lambda2': 9687299.3223714, 'gamma': 0.0001083} score:  nan\n",
      "eta params: {'alpha': 1.514, 'gamma': 21.544} r2:  nan\n",
      "==== Estimate 2: 0.43817512221273885\n",
      "==== Estimate: 0.4205297744275483\n",
      "==== Cross-fitting fold 1 (1000/2000 fit/eval)\n",
      "Bridge h params: {'lambda1': 673846.6261991, 'lambda2': 10000000.0, 'gamma': 47.024831} score:  nan\n",
      "Treatment prob params: {'C': 1000000.0, 'degree': 2} log_loss:  nan\n",
      "Bridge q params: {'lambda1': 0.0001, 'lambda2': 9687299.3223714, 'gamma': 0.0001083} score:  nan\n",
      "eta params: {'alpha': 1.514, 'gamma': 21.544} r2:  nan\n",
      "==== Estimate 1: 0.4262615030165704\n",
      "==== Cross-fitting fold 2 (1000/2000 fit/eval)\n",
      "Bridge h params: {'lambda1': 673846.6261991, 'lambda2': 10000000.0, 'gamma': 47.024831} score:  nan\n",
      "Treatment prob params: {'C': 1000000.0, 'degree': 2} log_loss:  nan\n",
      "Bridge q params: {'lambda1': 0.0001, 'lambda2': 9687299.3223714, 'gamma': 0.0001083} score:  nan\n",
      "eta params: {'alpha': 1.514, 'gamma': 21.544} r2:  nan\n",
      "==== Estimate 2: 0.4173128132833682\n",
      "==== Estimate: 0.4217871581499693\n",
      "^PMR\n",
      "==== Cross-fitting fold 1 (1000/2000 fit/eval)\n",
      "Treatment prob params: {'C': 1000000.0, 'degree': 2} log_loss:  nan\n",
      "Bridge h params: {'lambda1': 673846.6261991, 'lambda2': 10000000.0, 'gamma': 47.024831} score:  nan\n",
      "eta params: {'alpha': 1.514, 'gamma': 21.544} r2:  nan\n",
      "==== Estimate 1: 7.159807940273449e-14\n",
      "==== Cross-fitting fold 2 (1000/2000 fit/eval)\n",
      "Treatment prob params: {'C': 1000000.0, 'degree': 2} log_loss:  nan\n",
      "Bridge h params: {'lambda1': 673846.6261991, 'lambda2': 10000000.0, 'gamma': 47.024831} score:  nan\n",
      "eta params: {'alpha': 1.514, 'gamma': 21.544} r2:  nan\n",
      "==== Estimate 2: 4.246575585686284e-14\n",
      "==== Estimate: 5.703191762979867e-14\n",
      "^POR\n",
      "==== Cross-fitting fold 1 (1000/2000 fit/eval)\n",
      "Bridge q params: {'lambda1': 0.0001, 'lambda2': 9687299.3223714, 'gamma': 0.0001083} score:  nan\n",
      "==== Estimate 1: 0.9401801321165237\n",
      "==== Cross-fitting fold 2 (1000/2000 fit/eval)\n",
      "Bridge q params: {'lambda1': 0.0001, 'lambda2': 9687299.3223714, 'gamma': 0.0001083} score:  nan\n",
      "==== Estimate 2: 0.8919006897507813\n",
      "==== Estimate: 0.9160404109336525\n",
      "^PIPW\n",
      "true psi: 0.26949896611810986\n"
     ]
    },
    {
     "data": {
      "text/plain": [
       "{'treatment': {'C': 999999.9999999995, 'degree': 2},\n",
       " 'h': {'lambda1': 673846.6261990658,\n",
       "  'lambda2': 10000000.000000006,\n",
       "  'gamma': 47.02483098427903},\n",
       " 'q': {'lambda1': 9.999999999999991e-05,\n",
       "  'lambda2': 9687299.32237145,\n",
       "  'gamma': 0.00010826324554063362},\n",
       " 'eta': {'alpha': 1.5136134960784886, 'gamma': 21.543525653616125}}"
      ]
     },
     "execution_count": 6,
     "metadata": {},
     "output_type": "execute_result"
    }
   ],
   "source": [
    "tune_parameters(1, 1, 1, 1, 1, \"c\", 3000, folds=2)"
   ]
  },
  {
   "cell_type": "code",
   "execution_count": null,
   "metadata": {},
   "outputs": [],
   "source": []
  },
  {
   "cell_type": "code",
   "execution_count": null,
   "metadata": {},
   "outputs": [],
   "source": []
  },
  {
   "cell_type": "code",
   "execution_count": null,
   "metadata": {},
   "outputs": [],
   "source": []
  },
  {
   "cell_type": "code",
   "execution_count": null,
   "metadata": {
    "scrolled": true
   },
   "outputs": [
    {
     "name": "stdout",
     "output_type": "stream",
     "text": [
      "==== Cross-fitting fold 1 (2000/4000 fit/eval)\n"
     ]
    }
   ],
   "source": [
    "tune_parameters(5, 2, 2, 2, 1, \"a\", 6000, folds=2)"
   ]
  },
  {
   "cell_type": "code",
   "execution_count": null,
   "metadata": {},
   "outputs": [],
   "source": [
    "tune_parameters(5, 2, 2, 2, 1, \"b\", 6000, folds=2)"
   ]
  },
  {
   "cell_type": "code",
   "execution_count": null,
   "metadata": {},
   "outputs": [],
   "source": [
    "tune_parameters(5, 2, 2, 2, 1, \"c\", 6000, folds=2)"
   ]
  },
  {
   "cell_type": "code",
   "execution_count": null,
   "metadata": {},
   "outputs": [],
   "source": []
  },
  {
   "cell_type": "code",
   "execution_count": null,
   "metadata": {},
   "outputs": [],
   "source": []
  },
  {
   "cell_type": "code",
   "execution_count": null,
   "metadata": {},
   "outputs": [],
   "source": []
  },
  {
   "cell_type": "code",
   "execution_count": null,
   "metadata": {},
   "outputs": [],
   "source": [
    "tune_parameters(5, 2, 2, 2, 1, \"a\", 3000, folds=2)"
   ]
  },
  {
   "cell_type": "code",
   "execution_count": null,
   "metadata": {},
   "outputs": [],
   "source": [
    "tune_parameters(5, 2, 2, 2, 1, \"b\", 3000, folds=2)"
   ]
  },
  {
   "cell_type": "code",
   "execution_count": null,
   "metadata": {},
   "outputs": [],
   "source": [
    "tune_parameters(5, 2, 2, 2, 1, \"c\", 3000, folds=2)"
   ]
  },
  {
   "cell_type": "code",
   "execution_count": null,
   "metadata": {},
   "outputs": [],
   "source": []
  }
 ],
 "metadata": {
  "kernelspec": {
   "display_name": "Python 3 (ipykernel)",
   "language": "python",
   "name": "python3"
  },
  "language_info": {
   "codemirror_mode": {
    "name": "ipython",
    "version": 3
   },
   "file_extension": ".py",
   "mimetype": "text/x-python",
   "name": "python",
   "nbconvert_exporter": "python",
   "pygments_lexer": "ipython3",
   "version": "3.9.0"
  }
 },
 "nbformat": 4,
 "nbformat_minor": 2
}
