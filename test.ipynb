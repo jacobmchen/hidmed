{
 "cells": [
  {
   "cell_type": "code",
   "execution_count": 1,
   "metadata": {},
   "outputs": [],
   "source": [
    "%load_ext autoreload\n",
    "%autoreload 2"
   ]
  },
  {
   "cell_type": "code",
   "execution_count": 2,
   "metadata": {},
   "outputs": [],
   "source": [
    "import numpy as np\n",
    "from hidmed import *\n",
    "from tqdm import tqdm\n",
    "import matplotlib.pyplot as plt"
   ]
  },
  {
   "cell_type": "code",
   "execution_count": 3,
   "metadata": {},
   "outputs": [
    {
     "name": "stdout",
     "output_type": "stream",
     "text": [
      "a\n",
      "1.5288949197529045\n",
      "(0.054896346688630644, 0.9603479795649502)\n",
      "b\n",
      "-0.49286919666747864\n",
      "(0.022130431788334248, 0.9784680809142835)\n",
      "c\n",
      "0.26949896611810986\n",
      "(0.022130431788334248, 0.9784680809142835)\n"
     ]
    }
   ],
   "source": [
    "xdim, zdim, wdim, mdim, udim = 1, 1, 1, 1, 1\n",
    "for setup in [\"a\", \"b\", \"c\"]:\n",
    "    print(setup)\n",
    "    datagen = LinearHidMedDGP(xdim, zdim, wdim, mdim, udim, setup=setup, seed=0)\n",
    "    print(datagen.true_psi())\n",
    "    print(datagen.diagnostics())"
   ]
  },
  {
   "cell_type": "code",
   "execution_count": 4,
   "metadata": {},
   "outputs": [
    {
     "name": "stdout",
     "output_type": "stream",
     "text": [
      "a\n",
      "1.4499499899112276\n",
      "(0.2187158438750789, 0.784770155325153)\n",
      "b\n",
      "0.733662299986601\n",
      "(0.1923582503046849, 0.8233959160137242)\n",
      "c\n",
      "1.4593042719375737\n",
      "(0.1923582503046849, 0.8233959160137242)\n"
     ]
    }
   ],
   "source": [
    "xdim, zdim, wdim, mdim, udim = 5, 2, 2, 2, 1\n",
    "for setup in [\"a\", \"b\", \"c\"]:\n",
    "    print(setup)\n",
    "    datagen = LinearHidMedDGP(xdim, zdim, wdim, mdim, udim, setup=setup, seed=0)\n",
    "    print(datagen.true_psi())\n",
    "    print(datagen.diagnostics())"
   ]
  },
  {
   "cell_type": "code",
   "execution_count": 3,
   "metadata": {},
   "outputs": [
    {
     "name": "stdout",
     "output_type": "stream",
     "text": [
      "[0.26949897]\n",
      "(0.022130431788334248, 0.9784680809142835)\n"
     ]
    }
   ],
   "source": [
    "n = 200\n",
    "xdim = 1\n",
    "zdim = 1\n",
    "wdim = 1\n",
    "mdim = 1\n",
    "udim = 1\n",
    "\n",
    "setup = \"c\"\n",
    "datagen = LinearHidMedDGP(xdim, zdim, wdim, mdim, udim, setup=setup, seed=0)\n",
    "print(datagen.true_psi())\n",
    "print(datagen.diagnostics())"
   ]
  },
  {
   "cell_type": "code",
   "execution_count": 4,
   "metadata": {},
   "outputs": [
    {
     "name": "stdout",
     "output_type": "stream",
     "text": [
      "==== Cross-fitting fold 1 (100/100 fit/eval)\n",
      "Treatment prob params: {'C': 0.058, 'degree': 1} log_loss:  0.687\n",
      "Bridge h params: {'lambda1': 1.8e-06, 'lambda2': 2e-07, 'gamma': 0.001} score:  -0.2697666\n",
      "eta params: {'alpha': 0.0, 'gamma': 0.034} r2:  0.985\n",
      "==== Estimate 1: 1.3366854542458253\n",
      "<class 'hidmed.por.ProximalOutcomeRegression'> 1.3366854542458253 \n",
      "\n"
     ]
    }
   ],
   "source": [
    "for i in range(1):\n",
    "    dataset = datagen.sample_dataset(n, seed=i)\n",
    "    for method in [\n",
    "        ProximalOutcomeRegression,\n",
    "        # ProximalInverseProbWeighting,\n",
    "        # ProximalMultiplyRobust,\n",
    "    ]:\n",
    "        est = method(\n",
    "            generalized_model=(setup == \"b\" or setup == \"c\"),\n",
    "            kernel_metric=\"rbf\",\n",
    "            folds=1,\n",
    "            num_runs=200,\n",
    "            n_jobs=1,\n",
    "        )\n",
    "        estimate = est.fit(dataset)\n",
    "        print(method, estimate, \"\\n\")"
   ]
  },
  {
   "cell_type": "code",
   "execution_count": 6,
   "metadata": {},
   "outputs": [
    {
     "name": "stdout",
     "output_type": "stream",
     "text": [
      "==== Cross-fitting fold 1 (100/100 fit/eval)\n",
      "Treatment prob params: {'C': 0.058, 'degree': 1} log_loss:  nan\n",
      "Bridge h params: {'lambda1': 1.8e-06, 'lambda2': 2e-07, 'gamma': 0.001} score:  nan\n",
      "eta params: {'alpha': 0.0, 'gamma': 0.034} r2:  nan\n",
      "==== Estimate 1: 1.3366854542458253\n"
     ]
    }
   ],
   "source": [
    "dataset = datagen.sample_dataset(n, seed=i)\n",
    "estimator = ProximalOutcomeRegression(\n",
    "    generalized_model=(setup == \"b\" or setup == \"c\"),\n",
    "    kernel_metric=\"rbf\",\n",
    "    folds=1,\n",
    "    num_runs=200,\n",
    "    n_jobs=1,\n",
    "    # **est.params,\n",
    ")\n",
    "estimate = est.fit(dataset)"
   ]
  },
  {
   "cell_type": "code",
   "execution_count": 12,
   "metadata": {},
   "outputs": [
    {
     "name": "stdout",
     "output_type": "stream",
     "text": [
      "==== Cross-fitting fold 1 (67/134 fit/eval)\n",
      "Treatment prob params: {'C': 1000000.0, 'degree': 2} log_loss:  0.641\n",
      "Bridge h params: {'lambda1': 0.1, 'lambda2': 0.1, 'gamma': 0.001} score:  -0.0296634\n",
      "eta params: {'alpha': 0.016, 'gamma': 0.159} r2:  0.981\n",
      "==== Estimate 1: 0.6701537725029394\n",
      "==== Cross-fitting fold 2 (67/134 fit/eval)\n",
      "Treatment prob params: {'C': 1000000.0, 'degree': 2} log_loss:  nan\n",
      "Bridge h params: {'lambda1': 0.1, 'lambda2': 0.1, 'gamma': 0.001} score:  nan\n",
      "eta params: {'alpha': 0.016, 'gamma': 0.159} r2:  nan\n",
      "==== Estimate 2: 0.6714272492119463\n"
     ]
    }
   ],
   "source": [
    "estimator = ProximalOutcomeRegression(\n",
    "    generalized_model=(setup == \"b\" or setup == \"c\"),\n",
    "    kernel_metric=\"rbf\",\n",
    "    folds=2,\n",
    "    num_runs=200,\n",
    "    n_jobs=1,\n",
    "    # **est.params,\n",
    ")\n",
    "estimate = estimator.fit(dataset)"
   ]
  },
  {
   "cell_type": "code",
   "execution_count": null,
   "metadata": {},
   "outputs": [],
   "source": []
  },
  {
   "cell_type": "code",
   "execution_count": null,
   "metadata": {},
   "outputs": [],
   "source": []
  },
  {
   "cell_type": "code",
   "execution_count": null,
   "metadata": {},
   "outputs": [],
   "source": []
  },
  {
   "cell_type": "code",
   "execution_count": null,
   "metadata": {},
   "outputs": [],
   "source": []
  },
  {
   "cell_type": "code",
   "execution_count": null,
   "metadata": {},
   "outputs": [],
   "source": []
  },
  {
   "cell_type": "code",
   "execution_count": null,
   "metadata": {},
   "outputs": [
    {
     "name": "stdout",
     "output_type": "stream",
     "text": [
      "(array([-0.4928692]), 0.04150455843052382)\n",
      "(0.022130431788334248, 0.9784680809142835)\n",
      "==== Cross-fitting fold 1 (2000/2000 fit/eval)\n",
      "Bridge h params: {'lambda1': 7e-06, 'lambda2': 0.0190296, 'gamma': 9e-07} score:  -0.000422\n",
      "Treatment prob params: {'C': 0.015, 'degree': 2} log_loss:  0.658\n",
      "Bridge q params: {'lambda1': 1.68e-05, 'lambda2': 2.2e-06, 'gamma': 0.0154611} score:  0.1244815\n",
      "eta params: {'alpha': 0.002, 'gamma': 0.01} r2:  0.989\n",
      "==== Estimate 1: -0.25877362091987754\n",
      "<class 'hidmed2.pmr.ProximalMultiplyRobust'> -0.25877362091987754 \n",
      "\n"
     ]
    }
   ],
   "source": [
    "setup = \"b\"\n",
    "datagen = LinearHidMedDGP(xdim, zdim, wdim, mdim, udim, setup=setup, seed=0)\n",
    "\n",
    "print(datagen.true_psi())\n",
    "print(datagen.diagnostics())\n",
    "\n",
    "for i in range(1):\n",
    "    dataset = datagen.sample_dataset(n, seed=i)\n",
    "    for method in [\n",
    "        # ProximalOutcomeRegression,\n",
    "        # ProximalInverseProbWeighting,\n",
    "        ProximalMultiplyRobust,\n",
    "    ]:\n",
    "        est = method(\n",
    "            generalized_model=(setup == \"b\" or setup == \"c\"),\n",
    "            kernel_metric=\"rbf\",\n",
    "            folds=1,\n",
    "            num_runs=200,\n",
    "            n_jobs=1,\n",
    "        )\n",
    "        estimate = est.fit(dataset)\n",
    "        print(method, estimate, \"\\n\")"
   ]
  },
  {
   "cell_type": "code",
   "execution_count": null,
   "metadata": {},
   "outputs": [
    {
     "name": "stdout",
     "output_type": "stream",
     "text": [
      "(array([-0.4928692]), 0.04150455843052382)\n",
      "(0.022130431788334248, 0.9784680809142835)\n",
      "==== Cross-fitting fold 1 (2000/2000 fit/eval)\n",
      "Bridge q params: {'lambda1': 1e-07, 'lambda2': 0.0279407, 'gamma': 1.28e-05} score:  -0.0138943\n",
      "==== Estimate 1: 0.06444304732517314\n",
      "<class 'hidmed2.pipw.ProximalInverseProbWeighting'> 0.06444304732517314 \n",
      "\n"
     ]
    }
   ],
   "source": [
    "setup = \"b\"\n",
    "datagen = LinearHidMedDGP(xdim, zdim, wdim, mdim, udim, setup=setup, seed=0)\n",
    "\n",
    "print(datagen.true_psi())\n",
    "print(datagen.diagnostics())\n",
    "\n",
    "for i in range(1):\n",
    "    dataset = datagen.sample_dataset(n, seed=i)\n",
    "    for method in [\n",
    "        # ProximalOutcomeRegression,\n",
    "        ProximalInverseProbWeighting,\n",
    "        # ProximalMultiplyRobust,\n",
    "    ]:\n",
    "        est = method(\n",
    "            generalized_model=(setup == \"b\" or setup == \"c\"),\n",
    "            kernel_metric=\"rbf\",\n",
    "            folds=1,\n",
    "            num_runs=200,\n",
    "            n_jobs=1,\n",
    "        )\n",
    "        estimate = est.fit(dataset)\n",
    "        print(method, estimate, \"\\n\")"
   ]
  },
  {
   "cell_type": "code",
   "execution_count": null,
   "metadata": {},
   "outputs": [
    {
     "name": "stdout",
     "output_type": "stream",
     "text": [
      "(array([0.26949897]), 0.8038727212161121)\n",
      "(0.022130431788334248, 0.9784680809142835)\n",
      "==== Cross-fitting fold 1 (2000/2000 fit/eval)\n",
      "Bridge h params: {'lambda1': 0.0454318, 'lambda2': 1e-07, 'gamma': 0.0016697} score:  0.2790513\n",
      "Treatment prob params: {'C': 0.016, 'degree': 2} log_loss:  0.658\n",
      "Bridge q params: {'lambda1': 0.0008065, 'lambda2': 1e-07, 'gamma': 6.4238985} score:  89376.0358505\n",
      "eta params: {'alpha': 0.008, 'gamma': 0.025} r2:  0.99\n",
      "==== Estimate 1: 0.4766600386140055\n",
      "<class 'hidmed2.pmr.ProximalMultiplyRobust'> 0.4766600386140055 \n",
      "\n"
     ]
    }
   ],
   "source": [
    "setup = \"c\"\n",
    "datagen = LinearHidMedDGP(xdim, zdim, wdim, mdim, udim, setup=setup, seed=0)\n",
    "\n",
    "print(datagen.true_psi())\n",
    "print(datagen.diagnostics())\n",
    "\n",
    "for i in range(1):\n",
    "    dataset = datagen.sample_dataset(n, seed=i)\n",
    "    for method in [\n",
    "        # ProximalOutcomeRegression,\n",
    "        # ProximalInverseProbWeighting,\n",
    "        ProximalMultiplyRobust,\n",
    "    ]:\n",
    "        est = method(\n",
    "            generalized_model=(setup == \"b\" or setup == \"c\"),\n",
    "            kernel_metric=\"rbf\",\n",
    "            folds=1,\n",
    "            num_runs=200,\n",
    "            n_jobs=1,\n",
    "        )\n",
    "        estimate = est.fit(dataset)\n",
    "        print(method, estimate, \"\\n\")"
   ]
  },
  {
   "cell_type": "code",
   "execution_count": null,
   "metadata": {},
   "outputs": [
    {
     "name": "stdout",
     "output_type": "stream",
     "text": [
      "(array([0.26949897]), 0.8038727212161121)\n",
      "(0.022130431788334248, 0.9784680809142835)\n",
      "==== Cross-fitting fold 1 (2000/2000 fit/eval)\n",
      "Bridge q params: {'lambda1': 2.4e-06, 'lambda2': 4.3e-06, 'gamma': 6e-07} score:  39.0508075\n",
      "==== Estimate 1: 0.300072622844817\n",
      "<class 'hidmed2.pipw.ProximalInverseProbWeighting'> 0.300072622844817 \n",
      "\n"
     ]
    }
   ],
   "source": [
    "setup = \"c\"\n",
    "datagen = LinearHidMedDGP(xdim, zdim, wdim, mdim, udim, setup=setup, seed=0)\n",
    "\n",
    "print(datagen.true_psi())\n",
    "print(datagen.diagnostics())\n",
    "\n",
    "for i in range(1):\n",
    "    dataset = datagen.sample_dataset(n, seed=i)\n",
    "    for method in [\n",
    "        # ProximalOutcomeRegression,\n",
    "        ProximalInverseProbWeighting,\n",
    "        # ProximalMultiplyRobust,\n",
    "    ]:\n",
    "        est = method(\n",
    "            generalized_model=(setup == \"b\" or setup == \"c\"),\n",
    "            kernel_metric=\"rbf\",\n",
    "            folds=1,\n",
    "            num_runs=200,\n",
    "            n_jobs=1,\n",
    "        )\n",
    "        estimate = est.fit(dataset)\n",
    "        print(method, estimate, \"\\n\")"
   ]
  },
  {
   "cell_type": "code",
   "execution_count": null,
   "metadata": {},
   "outputs": [
    {
     "data": {
      "text/plain": [
       "{'q': {'lambda1': 9.999999999999994e-08,\n",
       "  'lambda2': 0.027940714334350955,\n",
       "  'gamma': 1.2836610470082075e-05}}"
      ]
     },
     "execution_count": 12,
     "metadata": {},
     "output_type": "execute_result"
    }
   ],
   "source": [
    "est.params"
   ]
  },
  {
   "cell_type": "code",
   "execution_count": null,
   "metadata": {},
   "outputs": [
    {
     "name": "stdout",
     "output_type": "stream",
     "text": [
      "==== Cross-fitting fold 1 (2000/2000 fit/eval)\n"
     ]
    }
   ],
   "source": [
    "est = ProximalInverseProbWeighting(\n",
    "    generalized_model=(setup == \"b\" or setup == \"c\"),\n",
    "    lambda_q=9.999999999999994e-08,\n",
    "    lambda_qf=0.027940714334350955,\n",
    "    gamma=1.2836610470082075e-05,\n",
    "    folds=1,\n",
    "    num_runs=200,\n",
    ")\n",
    "estimate = est.fit(dataset)"
   ]
  },
  {
   "cell_type": "code",
   "execution_count": null,
   "metadata": {},
   "outputs": [],
   "source": []
  }
 ],
 "metadata": {
  "kernelspec": {
   "display_name": "dev3",
   "language": "python",
   "name": "python3"
  },
  "language_info": {
   "codemirror_mode": {
    "name": "ipython",
    "version": 3
   },
   "file_extension": ".py",
   "mimetype": "text/x-python",
   "name": "python",
   "nbconvert_exporter": "python",
   "pygments_lexer": "ipython3",
   "version": "3.11.5"
  }
 },
 "nbformat": 4,
 "nbformat_minor": 2
}
