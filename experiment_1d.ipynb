{
 "cells": [
  {
   "cell_type": "code",
   "execution_count": 1,
   "metadata": {},
   "outputs": [],
   "source": [
    "%load_ext autoreload\n",
    "%autoreload 2"
   ]
  },
  {
   "cell_type": "code",
   "execution_count": 2,
   "metadata": {},
   "outputs": [],
   "source": [
    "import numpy as np\n",
    "from hidmed import *\n",
    "import pickle\n",
    "import matplotlib.pyplot as plt"
   ]
  },
  {
   "cell_type": "code",
   "execution_count": 3,
   "metadata": {},
   "outputs": [
    {
     "name": "stdout",
     "output_type": "stream",
     "text": [
      "Setup: a, n: 200\n",
      "==== Cross-fitting fold 1 (67/134 fit/eval)\n",
      "Bridge h params: {'lambda1': 4e-06, 'lambda2': 0.03445, 'gamma': 0.0010217} score:  -0.0074084\n",
      "Bridge q params: {'lambda1': 6.19e-05, 'lambda2': 0.0872144, 'gamma': 0.0011102} score:  -0.3440903\n",
      "eta params: {'alpha': 0.006, 'gamma': 0.003} r2:  0.977\n",
      "==== Estimate 1: 0.775510815601925\n",
      "==== Cross-fitting fold 2 (67/134 fit/eval)\n",
      "Bridge h params: {'lambda1': 4e-06, 'lambda2': 0.03445, 'gamma': 0.0010217} score:  nan\n",
      "Bridge q params: {'lambda1': 6.19e-05, 'lambda2': 0.0872144, 'gamma': 0.0011102} score:  nan\n",
      "eta params: {'alpha': 0.006, 'gamma': 0.003} r2:  nan\n",
      "==== Estimate 2: 1.4015360035146316\n",
      "==== Estimate: 1.0885234095582783\n",
      "\n",
      "\n",
      "Setup: a, n: 700\n",
      "==== Cross-fitting fold 1 (234/466 fit/eval)\n",
      "Bridge h params: {'lambda1': 0.001629, 'lambda2': 3e-07, 'gamma': 0.0028176} score:  4.7531446\n",
      "Bridge q params: {'lambda1': 5.32e-05, 'lambda2': 0.1, 'gamma': 0.001714} score:  -0.2460591\n",
      "eta params: {'alpha': 0.0, 'gamma': 0.192} r2:  0.989\n",
      "==== Estimate 1: 1.4079269204777451\n",
      "==== Cross-fitting fold 2 (233/468 fit/eval)\n",
      "Bridge h params: {'lambda1': 0.001629, 'lambda2': 3e-07, 'gamma': 0.0028176} score:  nan\n",
      "Bridge q params: {'lambda1': 5.32e-05, 'lambda2': 0.1, 'gamma': 0.001714} score:  nan\n",
      "eta params: {'alpha': 0.0, 'gamma': 0.192} r2:  nan\n",
      "==== Estimate 2: 1.5550410442623557\n",
      "==== Estimate: 1.4814839823700505\n",
      "\n",
      "\n",
      "Setup: a, n: 1200\n",
      "==== Cross-fitting fold 1 (400/800 fit/eval)\n"
     ]
    }
   ],
   "source": [
    "def tune_parameters(xdim, zdim, wdim, mdim, udim, setup, n, folds=1, seed=0):\n",
    "    \"\"\"Tune the parameters of the estimators for a given setup.\"\"\"\n",
    "    assert setup in [\"a\", \"b\", \"c\"], \"Invalid setup. Must be 'a', 'b', or 'c'.\"\n",
    "    datagen = LinearHidMedDGP(xdim, zdim, wdim, mdim, udim, setup=setup, seed=seed)\n",
    "\n",
    "    estimator = ProximalMultiplyRobust(\n",
    "        generalized_model=(setup == \"b\" or setup == \"c\"),\n",
    "        folds=folds,\n",
    "        num_runs=200,\n",
    "        n_jobs=1,\n",
    "    )\n",
    "    dataset = datagen.sample_dataset(n, seed=seed+1)\n",
    "    estimator.fit(dataset)\n",
    "    return estimator.params\n",
    "\n",
    "# 1d-case\n",
    "tuned_parameters_1d = {}\n",
    "for setup in [\"a\", \"b\", \"c\"]:\n",
    "    for n in np.arange(200, 6000, 500):\n",
    "        print(f\"Setup: {setup}, n: {n}\")\n",
    "        tuned_parameters_1d[setup, n] = tune_parameters(1, 1, 1, 1, 1, setup, n, folds=2)\n",
    "        print(\"\\n\")\n",
    "\n",
    "pickle.dump(tuned_parameters_1d, open(\"tuned_parameters_1d.pkl\", \"wb\"))\n",
    "\n",
    "# 5d-case\n",
    "tuned_parameters_5d = {}\n",
    "for setup in [\"a\", \"b\", \"c\"]:\n",
    "    for n in np.arange(200, 6000, 500):\n",
    "        print(f\"Setup: {setup}, n: {n}\")\n",
    "        tuned_parameters_5d[setup, n] = tune_parameters(5, 5, 5, 5, 5, setup, n, folds=2)\n",
    "\n",
    "pickle.dump(tuned_parameters_5d, open(\"tuned_parameters_5d.pkl\", \"wb\"))"
   ]
  },
  {
   "cell_type": "code",
   "execution_count": null,
   "metadata": {},
   "outputs": [],
   "source": []
  }
 ],
 "metadata": {
  "kernelspec": {
   "display_name": "dev3",
   "language": "python",
   "name": "python3"
  },
  "language_info": {
   "codemirror_mode": {
    "name": "ipython",
    "version": 3
   },
   "file_extension": ".py",
   "mimetype": "text/x-python",
   "name": "python",
   "nbconvert_exporter": "python",
   "pygments_lexer": "ipython3",
   "version": "3.11.5"
  }
 },
 "nbformat": 4,
 "nbformat_minor": 2
}
