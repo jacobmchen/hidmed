{
 "cells": [
  {
   "cell_type": "code",
   "execution_count": 1,
   "metadata": {},
   "outputs": [],
   "source": [
    "%load_ext autoreload\n",
    "%autoreload 2"
   ]
  },
  {
   "cell_type": "code",
   "execution_count": 2,
   "metadata": {},
   "outputs": [],
   "source": [
    "import numpy as np\n",
    "from hidmed import *\n",
    "from tqdm import tqdm\n",
    "import pickle\n",
    "import matplotlib.pyplot as plt"
   ]
  },
  {
   "cell_type": "code",
   "execution_count": 3,
   "metadata": {},
   "outputs": [],
   "source": [
    "n = 5000\n",
    "udim = 1\n",
    "xdim = 5\n",
    "zdim = 2\n",
    "wdim = 2\n",
    "mdim = 2\n",
    "datagen = LinearHidMedDataset(xdim, zdim, wdim, mdim, udim, setup=\"a\")\n",
    "\n",
    "\n",
    "def sweep_hyperparameters(\n",
    "    n,\n",
    "    setup,\n",
    "    nonnegative=True,\n",
    "    azwy_nonnegative=False,\n",
    "    seed=0,\n",
    "    n_xfit=5,\n",
    "    n_max=10000,\n",
    "    maxfev=100,\n",
    "    gamma_h=None,\n",
    "    gamma_q=None,\n",
    "):\n",
    "    datagen = LinearHidMedDataset(\n",
    "        xdim,\n",
    "        zdim,\n",
    "        wdim,\n",
    "        mdim,\n",
    "        udim,\n",
    "        setup=setup,\n",
    "        nonnegative=nonnegative,\n",
    "        azwy_nonnegative=azwy_nonnegative,\n",
    "        seed=seed,\n",
    "    )\n",
    "    data = datagen.sample_dataset(n_max, seed=0)\n",
    "    if n_xfit == -1:\n",
    "        data = HidMedDataset(\n",
    "            data.get_X(np.arange(2 * n)),\n",
    "            data.get_U(np.arange(2 * n)),\n",
    "            data.get_A(np.arange(2 * n)),\n",
    "            data.get_M(np.arange(2 * n)),\n",
    "            data.get_W(np.arange(2 * n)),\n",
    "            data.get_Z(np.arange(2 * n)),\n",
    "            data.get_Y(np.arange(2 * n)),\n",
    "        )\n",
    "\n",
    "        est = ProximalHidMedRKHS(\n",
    "            data,\n",
    "            create_kernel(n_jobs=5, gamma=gamma_h),\n",
    "            create_kernel(n_jobs=5, gamma=gamma_q),\n",
    "        )\n",
    "        lambdas_h = est.optimize_lambdas(\"h\", 1, 2, maxfev=maxfev, grid_search=True)\n",
    "        lambdas_q = est.optimize_lambdas(\"q\", 1, 2, maxfev=maxfev, grid_search=True)\n",
    "    else:\n",
    "        data = HidMedDataset(\n",
    "            data.get_X(np.arange(n)),\n",
    "            data.get_U(np.arange(n)),\n",
    "            data.get_A(np.arange(n)),\n",
    "            data.get_M(np.arange(n)),\n",
    "            data.get_W(np.arange(n)),\n",
    "            data.get_Z(np.arange(n)),\n",
    "            data.get_Y(np.arange(n)),\n",
    "        )\n",
    "        est = ProximalHidMedRKHS(\n",
    "            data,\n",
    "            create_kernel(n_jobs=5, gamma=gamma_h),\n",
    "            create_kernel(n_jobs=5, gamma=gamma_q),\n",
    "        )\n",
    "        lambdas_h = est.optimize_lambdas(\n",
    "            \"h\", 1, n_xfit, maxfev=maxfev, grid_search=True\n",
    "        )\n",
    "        lambdas_q = est.optimize_lambdas(\n",
    "            \"q\", 1, n_xfit, maxfev=maxfev, grid_search=True\n",
    "        )\n",
    "    return lambdas_h, lambdas_q\n",
    "\n",
    "\n",
    "def run(\n",
    "    n,\n",
    "    runs,\n",
    "    setup,\n",
    "    lambdas_h,\n",
    "    lambdas_q,\n",
    "    alpha,\n",
    "    gamma_dr,\n",
    "    nonnegative=True,\n",
    "    azwy_nonnegative=False,\n",
    "    seed=0,\n",
    "    n_xfit=5,\n",
    "    n_max=10000,\n",
    "    gamma_h=None,\n",
    "    gamma_q=None,\n",
    "):\n",
    "    datagen = LinearHidMedDataset(\n",
    "        xdim,\n",
    "        zdim,\n",
    "        wdim,\n",
    "        mdim,\n",
    "        udim,\n",
    "        setup=setup,\n",
    "        nonnegative=nonnegative,\n",
    "        azwy_nonnegative=azwy_nonnegative,\n",
    "        seed=seed,\n",
    "    )\n",
    "\n",
    "    # ground truth\n",
    "    true_psi = datagen.true_psi(n=100000)\n",
    "\n",
    "    coverage_h = 0.0\n",
    "    coverage_q = 0.0\n",
    "    coverage_d = 0.0\n",
    "\n",
    "    ci_h = 0.0\n",
    "    ci_q = 0.0\n",
    "    ci_d = 0.0\n",
    "\n",
    "    bias_h = 0.0\n",
    "    bias_q = 0.0\n",
    "    bias_d = 0.0\n",
    "\n",
    "    var_h = 0.0\n",
    "    var_q = 0.0\n",
    "    var_d = 0.0\n",
    "\n",
    "    mse_h = 0.0\n",
    "    mse_q = 0.0\n",
    "    mse_d = 0.0\n",
    "\n",
    "    psi_est_h = []\n",
    "    psi_est_q = []\n",
    "    psi_est_d = []\n",
    "    for i in tqdm(range(runs)):\n",
    "        data = datagen.sample_dataset(n_max, seed=seed + i + 1)\n",
    "\n",
    "        if lambdas_h is None or lambdas_q is None:\n",
    "            data_tuning = HidMedDataset(\n",
    "                data.get_X(np.arange(2 * n)),\n",
    "                data.get_U(np.arange(2 * n)),\n",
    "                data.get_A(np.arange(2 * n)),\n",
    "                data.get_M(np.arange(2 * n)),\n",
    "                data.get_W(np.arange(2 * n)),\n",
    "                data.get_Z(np.arange(2 * n)),\n",
    "                data.get_Y(np.arange(2 * n)),\n",
    "            )\n",
    "            est_tuning = ProximalHidMedRKHS(\n",
    "                data_tuning,\n",
    "                create_kernel(n_jobs=5, gamma=gamma_h),\n",
    "                create_kernel(n_jobs=5, gamma=gamma_q),\n",
    "            )\n",
    "            lambdas_h = est_tuning.optimize_lambdas(\n",
    "                \"h\", 1, 2, maxfev=25, grid_search=True\n",
    "            )\n",
    "            lambdas_q = est_tuning.optimize_lambdas(\n",
    "                \"q\", 1, 2, maxfev=25, grid_search=True\n",
    "            )\n",
    "\n",
    "        data = HidMedDataset(\n",
    "            data.get_X(np.arange(n)),\n",
    "            data.get_U(np.arange(n)),\n",
    "            data.get_A(np.arange(n)),\n",
    "            data.get_M(np.arange(n)),\n",
    "            data.get_W(np.arange(n)),\n",
    "            data.get_Z(np.arange(n)),\n",
    "            data.get_Y(np.arange(n)),\n",
    "        )\n",
    "        est = ProximalHidMedRKHS(\n",
    "            data,\n",
    "            create_kernel(n_jobs=5, gamma=gamma_h),\n",
    "            create_kernel(n_jobs=5, gamma=gamma_q),\n",
    "        )\n",
    "\n",
    "        psi1_h = est.plugin_h(\n",
    "            lambdas_h,\n",
    "            1.0,\n",
    "            None,\n",
    "            n_xfit,\n",
    "            psis=1 if datagen.setup == \"a\" else 2,\n",
    "            get_raw=True,\n",
    "        )\n",
    "        psi1_q = est.plugin_q(\n",
    "            lambdas_q,\n",
    "            alpha,\n",
    "            gamma_q,\n",
    "            n_xfit,\n",
    "            psis=1 if datagen.setup == \"a\" else 2,\n",
    "            get_raw=True,\n",
    "        )\n",
    "        psi1_d = est.double_robust(\n",
    "            lambdas_h,\n",
    "            lambdas_q,\n",
    "            alpha,\n",
    "            gamma_dr,\n",
    "            n_xfit,\n",
    "            psis=1 if datagen.setup == \"a\" else 2,\n",
    "            get_raw=True,\n",
    "        )\n",
    "\n",
    "        psi_est_h.append(np.mean(psi1_h))\n",
    "        psi_est_q.append(np.mean(psi1_q))\n",
    "        psi_est_d.append(np.mean(psi1_d))\n",
    "\n",
    "        coverage_h += is_covered(psi1_h, true_psi) / runs\n",
    "        coverage_q += is_covered(psi1_q, true_psi) / runs\n",
    "        coverage_d += is_covered(psi1_d, true_psi) / runs\n",
    "\n",
    "        bias_h += (np.mean(psi1_h) - true_psi) / runs\n",
    "        bias_q += (np.mean(psi1_q) - true_psi) / runs\n",
    "        bias_d += (np.mean(psi1_d) - true_psi) / runs\n",
    "\n",
    "        var_h += np.var(psi1_h) / runs\n",
    "        var_q += np.var(psi1_q) / runs\n",
    "        var_d += np.var(psi1_d) / runs\n",
    "\n",
    "        mse_h += calculate_mse(psi1_h, true_psi) / runs\n",
    "        mse_q += calculate_mse(psi1_q, true_psi) / runs\n",
    "        mse_d += calculate_mse(psi1_d, true_psi) / runs\n",
    "\n",
    "        ci_h += 2 * (1.96 * np.std(psi1_h) / np.sqrt(len(psi1_h))) / runs\n",
    "        ci_q += 2 * (1.96 * np.std(psi1_q) / np.sqrt(len(psi1_q))) / runs\n",
    "        ci_d += 2 * (1.96 * np.std(psi1_d) / np.sqrt(len(psi1_d))) / runs\n",
    "\n",
    "    return {\n",
    "        \"psi_est_h\": psi_est_h,\n",
    "        \"psi_est_q\": psi_est_q,\n",
    "        \"psi_est_d\": psi_est_d,\n",
    "        \"true\": true_psi,\n",
    "        \"coverage_h\": coverage_h,\n",
    "        \"coverage_q\": coverage_q,\n",
    "        \"coverage_d\": coverage_d,\n",
    "        \"mse_h\": mse_h,\n",
    "        \"mse_q\": mse_q,\n",
    "        \"mse_d\": mse_d,\n",
    "        \"bias_h\": bias_h,\n",
    "        \"bias_q\": bias_q,\n",
    "        \"bias_d\": bias_d,\n",
    "        \"var_h\": var_h,\n",
    "        \"var_q\": var_q,\n",
    "        \"var_d\": var_d,\n",
    "        \"ci_h\": ci_h,\n",
    "        \"ci_q\": ci_q,\n",
    "        \"ci_d\": ci_d,\n",
    "    }"
   ]
  },
  {
   "cell_type": "markdown",
   "metadata": {},
   "source": [
    "# sweep sample sizes"
   ]
  },
  {
   "cell_type": "code",
   "execution_count": 4,
   "metadata": {},
   "outputs": [
    {
     "name": "stderr",
     "output_type": "stream",
     "text": [
      "100%|██████████| 10/10 [00:55<00:00,  5.52s/it]\n"
     ]
    },
    {
     "name": "stdout",
     "output_type": "stream",
     "text": [
      "a 4000\n",
      "[8.21734572e-07 2.28652526e-01] [1.37073588e-07 1.37073588e-07] 200 0.05\n",
      "coverages: 0.1 0.0 0.9999999999999999\n",
      "length: 0.42119707136222534 0.025835582587003924 2.400732912466531\n",
      "MSEs: 0.18446191657585065 8.658608379173794 1.1152478180158027\n",
      "anb:  0.19589264498382705 1.426524328293821 0.010841295681943627\n",
      "true:  2.0\n"
     ]
    },
    {
     "name": "stderr",
     "output_type": "stream",
     "text": [
      "100%|██████████| 10/10 [02:14<00:00, 13.43s/it]\n"
     ]
    },
    {
     "name": "stdout",
     "output_type": "stream",
     "text": [
      "a 6000\n",
      "[5.94098631e-07 1.65311473e-01] [9.91016246e-08 9.91016246e-08] 200 0.05\n",
      "coverages: 0.0 0.0 0.9999999999999999\n",
      "length: 0.36084787928155515 0.02973439694408549 1.3525494709686041\n",
      "MSEs: 0.16382035463167943 9.52137895296063 0.22546039864103332\n",
      "anb:  0.19276656978685672 1.5232390976018186 0.05580072230995113\n",
      "true:  2.0\n"
     ]
    },
    {
     "name": "stderr",
     "output_type": "stream",
     "text": [
      "100%|██████████| 10/10 [04:36<00:00, 27.66s/it]\n"
     ]
    },
    {
     "name": "stdout",
     "output_type": "stream",
     "text": [
      "a 8000\n",
      "[4.71962576e-07 1.31326390e-01] [7.87281026e-08 7.87281026e-08] 200 0.05\n",
      "coverages: 0.0 0.0 0.9999999999999999\n",
      "length: 0.32195201903509435 0.0277945441443388 1.1538287183132643\n",
      "MSEs: 0.15812185406007354 10.851563237431758 0.13839494666683252\n",
      "anb:  0.1899658424516123 1.6352891404107517 0.019857257745768603\n",
      "true:  2.0\n"
     ]
    },
    {
     "name": "stderr",
     "output_type": "stream",
     "text": [
      "100%|██████████| 10/10 [00:57<00:00,  5.71s/it]\n"
     ]
    },
    {
     "name": "stdout",
     "output_type": "stream",
     "text": [
      "b 4000\n",
      "[4.92616934e-06 2.28652526e-01] [1.37073588e-07 1.77037347e-04] 5000 0.1\n",
      "coverages: 0.0 0.7999999999999999 0.8999999999999999\n",
      "length: 0.23457480905505546 1.165106101393366 1.3112232125984846\n",
      "MSEs: 0.24900095779837517 0.22265729831927766 0.26495063674674546\n",
      "anb:  0.21849287848775933 0.014021588751886797 0.03444033973464684\n",
      "true:  2.23501662216739\n"
     ]
    },
    {
     "name": "stderr",
     "output_type": "stream",
     "text": [
      "100%|██████████| 10/10 [02:16<00:00, 13.69s/it]\n"
     ]
    },
    {
     "name": "stdout",
     "output_type": "stream",
     "text": [
      "b 6000\n",
      "[3.56152773e-06 1.65311473e-01] [9.91016246e-08 1.27994670e-04] 5000 0.1\n",
      "coverages: 0.0 0.7 0.7999999999999999\n",
      "length: 0.2005224815801653 0.8425867786601795 1.0225751948766872\n",
      "MSEs: 0.18677689584065302 0.18505093891723748 0.15058107143890642\n",
      "anb:  0.1891671025606845 0.060353360909381835 0.06497682804917122\n",
      "true:  2.238860767854089\n"
     ]
    },
    {
     "name": "stderr",
     "output_type": "stream",
     "text": [
      "100%|██████████| 10/10 [04:46<00:00, 28.68s/it]\n"
     ]
    },
    {
     "name": "stdout",
     "output_type": "stream",
     "text": [
      "b 8000\n",
      "[2.82934131e-06 1.31326390e-01] [7.87281026e-08 1.01681255e-04] 5000 0.1\n",
      "coverages: 0.0 0.8999999999999999 0.8999999999999999\n",
      "length: 0.17540684934794662 0.7542444369704271 0.9133705628505933\n",
      "MSEs: 0.1631558561500365 0.11545779585122452 0.11242832688780227\n",
      "anb:  0.17684486785883172 0.04720048463319965 0.05593311219798653\n",
      "true:  2.246762200445462\n"
     ]
    },
    {
     "name": "stderr",
     "output_type": "stream",
     "text": [
      "100%|██████████| 10/10 [00:56<00:00,  5.67s/it]\n"
     ]
    },
    {
     "name": "stdout",
     "output_type": "stream",
     "text": [
      "c 4000\n",
      "[4.92616934e-06 2.28652526e-01] [1.37073588e-07 1.77037347e-04] 5000 0.1\n",
      "coverages: 0.0 0.8999999999999999 0.8999999999999999\n",
      "length: 0.25989634240724935 1.3479679031071043 1.459362467123868\n",
      "MSEs: 0.3415220677336397 0.35318870225997523 0.3262317063925356\n",
      "anb:  0.17573925704302068 0.08997945023167059 0.0339499746309356\n",
      "true:  3.258918194835477\n"
     ]
    },
    {
     "name": "stderr",
     "output_type": "stream",
     "text": [
      "100%|██████████| 10/10 [02:16<00:00, 13.68s/it]\n"
     ]
    },
    {
     "name": "stdout",
     "output_type": "stream",
     "text": [
      "c 6000\n",
      "[3.56152773e-06 1.65311473e-01] [9.91016246e-08 1.27994670e-04] 5000 0.1\n",
      "coverages: 0.0 0.5 0.7999999999999999\n",
      "length: 0.22184820260629096 0.9824088353104143 1.1346502076458453\n",
      "MSEs: 0.22688877764256812 0.4340049901477143 0.18015524078399991\n",
      "anb:  0.14447491994121753 0.1477367696251032 0.047945040464775726\n",
      "true:  3.2359051052697785\n"
     ]
    },
    {
     "name": "stderr",
     "output_type": "stream",
     "text": [
      "100%|██████████| 10/10 [04:45<00:00, 28.52s/it]"
     ]
    },
    {
     "name": "stdout",
     "output_type": "stream",
     "text": [
      "c 8000\n",
      "[2.82934131e-06 1.31326390e-01] [7.87281026e-08 1.01681255e-04] 5000 0.1\n",
      "coverages: 0.0 0.30000000000000004 0.9999999999999999\n",
      "length: 0.19458992881727358 0.8811873237484789 1.0095877497697336\n",
      "MSEs: 0.18899359998184018 0.3166203154905747 0.1343709071828851\n",
      "anb:  0.13213175488409462 0.1330792791020917 0.040013822928504306\n",
      "true:  3.2345529979389647\n"
     ]
    },
    {
     "name": "stderr",
     "output_type": "stream",
     "text": [
      "\n"
     ]
    }
   ],
   "source": [
    "seed = 2\n",
    "n_xfit = 2\n",
    "num_runs = 10\n",
    "\n",
    "sample_sizes = [2000, 3000, 4000]\n",
    "\n",
    "if n_xfit > 0:\n",
    "    sample_sizes = [int(s * n_xfit / (n_xfit - 1)) for s in sample_sizes]\n",
    "\n",
    "gammas = {\n",
    "    (\"a\", \"h\"): np.array([2e-3, 2e-3, 2e-3]),  # np.array([5e-5, 5e-5, 5e-5]),\n",
    "    (\"a\", \"q\"): np.array([5e-3, 5e-3, 5e-3]),  # np.array([1e-2, 1e-2, 1e-2]),\n",
    "    (\"b\", \"h\"): np.array([5e-2, 5e-2, 5e-2]),  # np.array([4e-4, 4e-4, 4e-4]),\n",
    "    (\"b\", \"q\"): np.array([1e-2, 5e-3, 5e-3]),  # np.array([1e-2, 1e-2, 1e-2]),\n",
    "    (\"c\", \"h\"): np.array([5e-2, 5e-2, 5e-2]),\n",
    "    (\"c\", \"q\"): np.array([1e-2, 5e-3, 5e-3]),\n",
    "}\n",
    "alphas = {\"a\": [200, 200, 200], \"b\": [5000, 5000, 5000], \"c\": [5000, 5000, 5000]}\n",
    "gamma_drs = {\n",
    "    \"a\": [50 * 1e-3, 50 * 1e-3, 50 * 1e-3],\n",
    "    \"b\": [100 * 1e-3, 100 * 1e-3, 100 * 1e-3],\n",
    "    \"c\": [1e-3 * 100, 1e-3 * 100, 1e-3 * 100],\n",
    "}\n",
    "results = {}\n",
    "for setup in [\"a\", \"b\", \"c\"]:\n",
    "    n_fit = sample_sizes[0]\n",
    "    lambdas_h, lambdas_q = sweep_hyperparameters(\n",
    "        n_fit,\n",
    "        setup,\n",
    "        seed=seed,\n",
    "        n_xfit=n_xfit,\n",
    "        maxfev=100,\n",
    "        gamma_h=gammas[(setup, \"h\")][0],\n",
    "        gamma_q=gammas[(setup, \"q\")][0],\n",
    "    )\n",
    "    lambdas_h_scale = lambdas_h * n_fit**0.8\n",
    "    lambdas_q_scale = lambdas_q * n_fit**0.8\n",
    "    for i in range(len(sample_sizes)):\n",
    "        n = sample_sizes[i]\n",
    "\n",
    "        lambdas_h = lambdas_h_scale / n**0.8\n",
    "        lambdas_q = lambdas_q_scale / n**0.8\n",
    "\n",
    "        results[n, setup] = run(\n",
    "            n,\n",
    "            num_runs,\n",
    "            setup,\n",
    "            lambdas_h,\n",
    "            lambdas_q,\n",
    "            alphas[setup][i],\n",
    "            gamma_drs[setup][i],\n",
    "            n_xfit=n_xfit,\n",
    "            gamma_h=gammas[(setup, \"h\")][i],\n",
    "            gamma_q=gammas[(setup, \"q\")][i],\n",
    "            seed=seed,\n",
    "        )\n",
    "\n",
    "        abs_norm_bias_h = (\n",
    "            np.abs(results[n, setup][\"bias_h\"]) / results[n, setup][\"true\"]\n",
    "        )\n",
    "        abs_norm_bias_q = (\n",
    "            np.abs(results[n, setup][\"bias_q\"]) / results[n, setup][\"true\"]\n",
    "        )\n",
    "        abs_norm_bias_d = (\n",
    "            np.abs(results[n, setup][\"bias_d\"]) / results[n, setup][\"true\"]\n",
    "        )\n",
    "\n",
    "        print(setup, n)\n",
    "        print(lambdas_h, lambdas_q, alphas[setup][i], gamma_drs[setup][i])\n",
    "        print(\n",
    "            \"coverages:\",\n",
    "            results[n, setup][\"coverage_h\"],\n",
    "            results[n, setup][\"coverage_q\"],\n",
    "            results[n, setup][\"coverage_d\"],\n",
    "        )\n",
    "        print(\n",
    "            \"length:\",\n",
    "            results[n, setup][\"ci_h\"],\n",
    "            results[n, setup][\"ci_q\"],\n",
    "            results[n, setup][\"ci_d\"],\n",
    "        )\n",
    "        print(\n",
    "            \"MSEs:\",\n",
    "            results[n, setup][\"mse_h\"],\n",
    "            results[n, setup][\"mse_q\"],\n",
    "            results[n, setup][\"mse_d\"],\n",
    "        )\n",
    "        print(\"anb: \", abs_norm_bias_h, abs_norm_bias_q, abs_norm_bias_d)\n",
    "        print(\"true: \", results[n, setup][\"true\"])"
   ]
  },
  {
   "cell_type": "code",
   "execution_count": 6,
   "metadata": {},
   "outputs": [],
   "source": [
    "import pickle\n",
    "\n",
    "pickle.dump(results, open(\"assets/prox_hidmed_ndim_results.pkl\", \"wb\"))"
   ]
  },
  {
   "cell_type": "code",
   "execution_count": 8,
   "metadata": {},
   "outputs": [
    {
     "data": {
      "image/png": "[encoded data removed]",
      "text/plain": [
       "<Figure size 864x576 with 1 Axes>"
      ]
     },
     "metadata": {
      "needs_background": "light"
     },
     "output_type": "display_data"
    },
    {
     "data": {
      "image/png": "[encoded data removed]",
      "text/plain": [
       "<Figure size 864x576 with 1 Axes>"
      ]
     },
     "metadata": {
      "needs_background": "light"
     },
     "output_type": "display_data"
    },
    {
     "data": {
      "image/png": "[encoded data removed]",
      "text/plain": [
       "<Figure size 864x576 with 1 Axes>"
      ]
     },
     "metadata": {
      "needs_background": "light"
     },
     "output_type": "display_data"
    }
   ],
   "source": [
    "import matplotlib\n",
    "from matplotlib.lines import Line2D\n",
    "\n",
    "\n",
    "keys = [\"psi_est_h\", \"psi_est_q\", \"psi_est_d\"]\n",
    "font = {\"size\": 16}\n",
    "matplotlib.rc(\"font\", **font)\n",
    "\n",
    "for mode in [\"a\", \"b\", \"c\"]:\n",
    "    idx = 1\n",
    "    positions = []\n",
    "    for col in range(len(sample_sizes)):\n",
    "        for i in range(len(keys)):\n",
    "            positions.append(idx)\n",
    "            idx += 1\n",
    "        idx += 2\n",
    "\n",
    "    labels = [\n",
    "        sample_sizes[col] if i == 2 else \" \"\n",
    "        for col in range(len(sample_sizes))\n",
    "        for i in range(3)\n",
    "    ]\n",
    "\n",
    "    fig, ax = plt.subplots(figsize=(2 * 3 * 2, 4 * 2))\n",
    "    plotdata = []\n",
    "    for n in sample_sizes:\n",
    "        for key in keys:\n",
    "            plotdata.append(np.array(results[n, mode][key]) - results[n, mode][\"true\"])\n",
    "\n",
    "    bplot = ax.boxplot(\n",
    "        np.vstack(plotdata).T,\n",
    "        positions=positions,\n",
    "        labels=labels,\n",
    "        patch_artist=True,\n",
    "        widths=1,\n",
    "        showmeans=True,\n",
    "    )\n",
    "\n",
    "    base_colors = [\"cornflowerblue\", \"mediumaquamarine\", \"khaki\"]\n",
    "    colors = [c for _ in range(len(sample_sizes)) for c in base_colors]\n",
    "    for patch, color in zip(bplot[\"boxes\"], colors):\n",
    "        patch.set_facecolor(color)\n",
    "\n",
    "    custom_lines = [Line2D([0], [0], color=c, lw=4) for c in base_colors]\n",
    "    ax.legend(custom_lines, [\"POR\", \"PIPW\", \"PMR\"])\n",
    "\n",
    "    ax.axhline(y=0.0, color=\"k\", linestyle=\"--\", zorder=3)\n",
    "    # plt.ylim(-7.1, 7.1)\n",
    "    plt.xticks(positions[1 :: len(keys)], sample_sizes)\n",
    "    plt.xlabel(\"Sample Size\")\n",
    "    plt.ylabel(\"Bias\")\n",
    "    plt.tight_layout()\n",
    "    plt.savefig(\n",
    "        \"assets/prox_hidmed_nd_sample_sizes_setup_%s_2fold_xfit.png\" % mode, dpi=500\n",
    "    )\n",
    "    plt.show()"
   ]
  },
  {
   "cell_type": "code",
   "execution_count": null,
   "metadata": {},
   "outputs": [],
   "source": []
  }
 ],
 "metadata": {
  "kernelspec": {
   "display_name": "Python 3.9.7 ('base')",
   "language": "python",
   "name": "python3"
  },
  "language_info": {
   "codemirror_mode": {
    "name": "ipython",
    "version": 3
   },
   "file_extension": ".py",
   "mimetype": "text/x-python",
   "name": "python",
   "nbconvert_exporter": "python",
   "pygments_lexer": "ipython3",
   "version": "3.9.7 (default, Sep 16 2021, 16:59:28) [MSC v.1916 64 bit (AMD64)]"
  },
  "orig_nbformat": 4,
  "vscode": {
   "interpreter": {
    "hash": "e4c15ece2f70dc4979f984114510b65d782a9d1cb730392f8b1353a03955a8c5"
   }
  }
 },
 "nbformat": 4,
 "nbformat_minor": 2
}
