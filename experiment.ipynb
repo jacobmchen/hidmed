{
 "cells": [
  {
   "cell_type": "code",
   "execution_count": null,
   "metadata": {},
   "outputs": [],
   "source": [
    "%load_ext autoreload\n",
    "%autoreload 2"
   ]
  },
  {
   "cell_type": "code",
   "execution_count": null,
   "metadata": {},
   "outputs": [],
   "source": [
    "import numpy as np\n",
    "from hidmed import *\n",
    "import pickle\n",
    "import matplotlib.pyplot as plt"
   ]
  },
  {
   "cell_type": "code",
   "execution_count": null,
   "metadata": {},
   "outputs": [],
   "source": [
    "def tune_parameters(xdim, zdim, wdim, mdim, udim, setup, n, folds=1, seed=0):\n",
    "    \"\"\"Tune the parameters of the estimators for a given setup.\"\"\"\n",
    "    assert setup in [\"a\", \"b\", \"c\"], \"Invalid setup. Must be 'a', 'b', or 'c'.\"\n",
    "    datagen = LinearHidMedDGP(xdim, zdim, wdim, mdim, udim, setup=setup, seed=seed)\n",
    "\n",
    "    estimator = ProximalMultiplyRobust(\n",
    "        generalized_model=(setup == \"b\" or setup == \"c\"),\n",
    "        folds=folds,\n",
    "        num_runs=200,\n",
    "        n_jobs=1,\n",
    "    )\n",
    "    dataset = datagen.sample_dataset(n, seed=seed + 1)\n",
    "    estimator.fit(dataset)\n",
    "    return estimator.params\n",
    "\n",
    "\n",
    "# 1d-case\n",
    "tuned_parameters = {}\n",
    "\n",
    "for n in np.arange(200, 5000, 600):\n",
    "    tuned_parameters[1, n] = tune_parameters(1, 1, 1, 1, 1, \"c\", n, folds=2)\n",
    "    print(\"\\n\")\n",
    "\n",
    "pickle.dump(tuned_parameters, open(\"assets/tuned_parameters.pkl\", \"wb\"))\n",
    "\n",
    "# 5d-case\n",
    "tuned_parameters = {}\n",
    "for n in np.arange(200, 5000, 600):\n",
    "    tuned_parameters[5, n] = tune_parameters(5, 5, 5, 5, 5, \"c\", n, folds=2)\n",
    "    print(\"\\n\")\n",
    "\n",
    "pickle.dump(tuned_parameters, open(\"assets/tuned_parameters.pkl\", \"wb\"))"
   ]
  },
  {
   "cell_type": "code",
   "execution_count": null,
   "metadata": {},
   "outputs": [],
   "source": []
  }
 ],
 "metadata": {
  "kernelspec": {
   "display_name": "dev3",
   "language": "python",
   "name": "python3"
  },
  "language_info": {
   "codemirror_mode": {
    "name": "ipython",
    "version": 3
   },
   "file_extension": ".py",
   "mimetype": "text/x-python",
   "name": "python",
   "nbconvert_exporter": "python",
   "pygments_lexer": "ipython3",
   "version": "3.11.5"
  }
 },
 "nbformat": 4,
 "nbformat_minor": 2
}
