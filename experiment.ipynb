{
 "cells": [
  {
   "cell_type": "code",
   "execution_count": null,
   "metadata": {},
   "outputs": [],
   "source": [
    "%load_ext autoreload\n",
    "%autoreload 2"
   ]
  },
  {
   "cell_type": "code",
   "execution_count": null,
   "metadata": {},
   "outputs": [],
   "source": [
    "import numpy as np\n",
    "from hidmed import *\n",
    "from tqdm import tqdm\n",
    "import pickle\n",
    "import matplotlib.pyplot as plt"
   ]
  },
  {
   "cell_type": "markdown",
   "metadata": {},
   "source": [
    "## Tune hyperparameters for each setup and sample size combination"
   ]
  },
  {
   "cell_type": "code",
   "execution_count": null,
   "metadata": {},
   "outputs": [],
   "source": [
    "def tune_parameters(xdim, zdim, wdim, mdim, udim, setup, n, folds=2, seed=0):\n",
    "    \"\"\"Tune the parameters of the estimators for a given setup.\"\"\"\n",
    "    assert setup in [\"a\", \"b\", \"c\"], \"Invalid setup. Must be 'a', 'b', or 'c'.\"\n",
    "    datagen = LinearHidMedDGP(xdim, zdim, wdim, mdim, udim, setup=setup, seed=seed)\n",
    "\n",
    "    # tune all hyperparameters using setup \"c\"\n",
    "    estimator = ProximalMultiplyRobust(\n",
    "        generalized_model=True,\n",
    "        folds=folds,\n",
    "        num_runs=200,\n",
    "        n_jobs=1,\n",
    "    )\n",
    "    dataset = datagen.sample_dataset(n, seed=seed + 1)\n",
    "    estimator.fit(dataset)\n",
    "    return estimator.params\n",
    "\n",
    "\n",
    "# set up\n",
    "seed = 0\n",
    "setups = [\"a\", \"b\", \"c\"]\n",
    "sample_sizes = np.array([300, 1500, 3000, 6000])"
   ]
  },
  {
   "cell_type": "code",
   "execution_count": null,
   "metadata": {},
   "outputs": [],
   "source": [
    "# tuned_parameters = {}\n",
    "# for setup in setups:\n",
    "#     for n in sample_sizes:\n",
    "#         print(f\"1d-case, n={n}, setup={setup}\")\n",
    "#         tuned_parameters[1, setup, n] = tune_parameters(\n",
    "#             1, 1, 1, 1, 1, setup, n, folds=2, seed=seed\n",
    "#         )\n",
    "#         print(\"\\n\")\n",
    "\n",
    "#         print(f\"5d-case, n={n}, setup={setup}\")\n",
    "#         tuned_parameters[5, setup, n] = tune_parameters(\n",
    "#             5, 2, 2, 2, 1, setup, n, folds=2, seed=seed\n",
    "#         )\n",
    "#         print(\"\\n\")\n",
    "\n",
    "# !mkdir -p assets\n",
    "# pickle.dump(tuned_parameters, open(\"assets/tuned_parameters.pkl\", \"wb\"))"
   ]
  },
  {
   "cell_type": "markdown",
   "metadata": {},
   "source": [
    "## Evaluate estimators"
   ]
  },
  {
   "cell_type": "code",
   "execution_count": null,
   "metadata": {},
   "outputs": [],
   "source": [
    "def evaluate_estimator(predictor, datagen, n, num_runs=100):\n",
    "    \"\"\"Evaluate the performance of a predictor.\"\"\"\n",
    "    true_psi = datagen.true_psi()\n",
    "    res = {\n",
    "        \"estimate\": np.zeros(num_runs),\n",
    "        \"bias\": np.zeros(num_runs),\n",
    "        \"mse\": np.zeros(num_runs),\n",
    "        \"anb\": np.zeros(num_runs),\n",
    "        \"covered\": np.zeros(num_runs),\n",
    "        \"ci_width\": np.zeros(num_runs),\n",
    "    }\n",
    "    for i in tqdm(range(num_runs)):\n",
    "        dataset = datagen.sample_dataset(n, seed=i + 2)\n",
    "        point_estimates = predictor.fit(dataset, reduce=False)\n",
    "        res[\"estimate\"][i] = np.mean(point_estimates)\n",
    "        res[\"bias\"][i] = res[\"estimate\"][i] - true_psi\n",
    "        res[\"mse\"][i] = calculate_mse(point_estimates, true_psi)\n",
    "        res[\"anb\"][i] = absolute_normalized_bias(point_estimates, true_psi)\n",
    "        res[\"covered\"][i] = is_covered(point_estimates, true_psi)\n",
    "        res[\"ci_width\"][i] = confidence_interval(point_estimates)\n",
    "    return res"
   ]
  },
  {
   "cell_type": "code",
   "execution_count": null,
   "metadata": {},
   "outputs": [],
   "source": [
    "params = pickle.load(open(\"assets/tuned_parameters.pkl\", \"rb\"))\n",
    "\n",
    "results = {}\n",
    "\n",
    "for setup in setups:\n",
    "    for n in sample_sizes:\n",
    "        # 1d case\n",
    "        for dim in [1, 5]:\n",
    "            if dim == 1:\n",
    "                xdim, zdim, wdim, mdim, udim = 1, 1, 1, 1, 1\n",
    "            else:\n",
    "                xdim, zdim, wdim, mdim, udim = 5, 2, 2, 2, 1\n",
    "\n",
    "            datagen = LinearHidMedDGP(\n",
    "                xdim, zdim, wdim, mdim, udim, setup=setup, seed=seed\n",
    "            )\n",
    "            true_psi = datagen.true_psi()\n",
    "\n",
    "            for estimator in [\n",
    "                ProximalMultiplyRobust,\n",
    "                ProximalInverseProbWeighting,\n",
    "                ProximalOutcomeRegression,\n",
    "            ]:\n",
    "                print(\n",
    "                    f\"Running {estimator.__name__} for {dim}-dimensional case, n={n}, setup={setup}\"\n",
    "                )\n",
    "                predictor = estimator(\n",
    "                    generalized_model=(setup == \"c\" or setup == \"b\"),\n",
    "                    folds=2,\n",
    "                    verbose=False,\n",
    "                    **params[xdim, setup, n],\n",
    "                )\n",
    "                results[dim, setup, n, estimator.__name__] = evaluate_estimator(\n",
    "                    predictor, datagen, n, num_runs=100\n",
    "                )\n",
    "\n",
    "pickle.dump(results, open(\"assets/results.pkl\", \"wb\"))"
   ]
  },
  {
   "cell_type": "markdown",
   "metadata": {},
   "source": [
    "## Visualize results"
   ]
  },
  {
   "cell_type": "code",
   "execution_count": null,
   "metadata": {},
   "outputs": [],
   "source": []
  }
 ],
 "metadata": {
  "kernelspec": {
   "display_name": "dev3",
   "language": "python",
   "name": "python3"
  },
  "language_info": {
   "codemirror_mode": {
    "name": "ipython",
    "version": 3
   },
   "file_extension": ".py",
   "mimetype": "text/x-python",
   "name": "python",
   "nbconvert_exporter": "python",
   "pygments_lexer": "ipython3",
   "version": "3.11.5"
  }
 },
 "nbformat": 4,
 "nbformat_minor": 2
}
