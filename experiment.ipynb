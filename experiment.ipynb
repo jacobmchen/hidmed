{
 "cells": [
  {
   "cell_type": "code",
   "execution_count": null,
   "metadata": {},
   "outputs": [],
   "source": [
    "%load_ext autoreload\n",
    "%autoreload 2"
   ]
  },
  {
   "cell_type": "code",
   "execution_count": null,
   "metadata": {},
   "outputs": [],
   "source": [
    "import numpy as np\n",
    "from hidmed import *\n",
    "from tqdm import tqdm\n",
    "import pickle\n",
    "import matplotlib.pyplot as plt\n",
    "import matplotlib\n",
    "from matplotlib.lines import Line2D"
   ]
  },
  {
   "cell_type": "code",
   "execution_count": null,
   "metadata": {},
   "outputs": [],
   "source": [
    "seed = 1\n",
    "for setup in [\"a\", \"b\", \"c\"]:\n",
    "    datagen = LinearHidMedDGP(1, 1, 1, 1, 1, setup=setup, seed=seed)\n",
    "    print(setup, \">\", datagen.true_psi(), datagen.diagnostics())\n",
    "\n",
    "    datagen = LinearHidMedDGP(5, 2, 2, 2, 1, setup=setup, seed=seed)\n",
    "    print(setup, \">\", datagen.true_psi(), datagen.diagnostics())"
   ]
  },
  {
   "cell_type": "markdown",
   "metadata": {},
   "source": [
    "## Evaluate estimators"
   ]
  },
  {
   "cell_type": "code",
   "execution_count": null,
   "metadata": {
    "scrolled": true
   },
   "outputs": [],
   "source": [
    "setups = [\"a\", \"b\", \"c\"]\n",
    "sample_sizes = [900, 1800, 3600]\n",
    "dims = [1, 5]\n",
    "\n",
    "estimators = [\n",
    "    # ProximalMultiplyRobust,\n",
    "    ProximalInverseProbWeighting,\n",
    "    # ProximalOutcomeRegression,\n",
    "]\n",
    "num_evals = 100\n",
    "seed = 1\n",
    "\n",
    "results = {}\n",
    "\n",
    "for setup in setups:\n",
    "    for dim in dims:\n",
    "        if dim == 1:\n",
    "            xdim, zdim, wdim, mdim, udim = 1, 1, 1, 1, 1\n",
    "            sample_sizes = [300, 600, 1200]\n",
    "        else:\n",
    "            xdim, zdim, wdim, mdim, udim = 5, 2, 2, 2, 1\n",
    "            sample_sizes = [1050, 2100, 4200]\n",
    "\n",
    "        for n in sample_sizes:\n",
    "            # set up model\n",
    "            datagen = LinearHidMedDGP(\n",
    "                xdim, zdim, wdim, mdim, udim, setup=setup, seed=seed\n",
    "            )\n",
    "            true_psi = datagen.true_psi()\n",
    "\n",
    "            # hyperparameter tuning\n",
    "            tuner = ProximalMultiplyRobust(\"c\", folds=2, num_runs=20)\n",
    "            dataset = datagen.sample_dataset(n, seed=seed + 1)\n",
    "            tuner.fit(dataset)\n",
    "\n",
    "            # estimation\n",
    "            for estimator in estimators:\n",
    "                print(\n",
    "                    f\"Running {estimator.__name__} for {dim}-dimensional case, n={n}, setup={setup}\"\n",
    "                )\n",
    "\n",
    "                # evaluation\n",
    "                res = {\n",
    "                    \"estimate\": np.zeros(num_evals),\n",
    "                    \"bias\": np.zeros(num_evals),\n",
    "                    \"mse\": np.zeros(num_evals),\n",
    "                    \"anb\": np.zeros(num_evals),\n",
    "                    \"covered\": np.zeros(num_evals),\n",
    "                    \"ci_width\": np.zeros(num_evals),\n",
    "                }\n",
    "                for idx, i in enumerate(tqdm(range(seed + 1, seed + num_evals + 1))):\n",
    "                    predictor = estimator(\n",
    "                        setup, folds=2, param_dict=tuner.param_dict, verbose=False\n",
    "                    )\n",
    "                    predictor.fit(datagen.sample_dataset(n, seed=i))\n",
    "                    estimate = predictor.evaluate(reduce=False)\n",
    "\n",
    "                    res[\"estimate\"][idx] = np.mean(estimate)\n",
    "                    res[\"bias\"][idx] = np.mean(estimate) - true_psi\n",
    "                    res[\"mse\"][idx] = calculate_mse(estimate, true_psi)\n",
    "                    res[\"anb\"][idx] = absolute_normalized_bias(estimate, true_psi)\n",
    "                    res[\"covered\"][idx] = is_covered(estimate, true_psi)\n",
    "                    res[\"ci_width\"][idx] = confidence_interval(estimate)\n",
    "\n",
    "                results[dim, setup, n, estimator.__name__] = res\n",
    "                print(\"bias\", np.mean(res[\"bias\"]))\n",
    "                print(\"mse\", np.mean(res[\"mse\"]))\n",
    "                print(\"est\", np.mean(res[\"estimate\"]))\n",
    "                print(\"true\", true_psi)\n",
    "                print(\"ci_width\", np.mean(res[\"ci_width\"]))\n",
    "                print(\"coverage\", np.mean(res[\"covered\"]))\n",
    "\n",
    "pickle.dump(results, open(\"assets/results.pkl\", \"wb\"))"
   ]
  },
  {
   "cell_type": "markdown",
   "metadata": {},
   "source": [
    "## Visualize results"
   ]
  },
  {
   "cell_type": "code",
   "execution_count": null,
   "metadata": {},
   "outputs": [],
   "source": [
    "results = pickle.load(open(\"assets/results.pkl\", \"rb\"))"
   ]
  },
  {
   "cell_type": "code",
   "execution_count": null,
   "metadata": {},
   "outputs": [],
   "source": [
    "dim = 5\n",
    "if dim == 1:\n",
    "    sample_sizes = [300, 600, 1200]\n",
    "else:\n",
    "    sample_sizes = [1050, 2100, 4200]\n",
    "\n",
    "for setup in setups:\n",
    "    idx = 1\n",
    "    positions = []\n",
    "    for col in range(len(sample_sizes)):\n",
    "        for i in range(len(estimators)):\n",
    "            positions.append(idx)\n",
    "            idx += 1\n",
    "        idx += 2\n",
    "\n",
    "    labels = [\n",
    "        sample_sizes[col] if i == 2 else \" \"\n",
    "        for col in range(len(sample_sizes))\n",
    "        for i in range(3)\n",
    "    ]\n",
    "\n",
    "    fig, ax = plt.subplots(figsize=(3 * 2, 4))\n",
    "    plotdata = []\n",
    "    for n in sample_sizes:\n",
    "        for estimator in [est.__name__ for est in estimators]:\n",
    "            plotdata.append(np.array(results[dim, setup, n, estimator][\"bias\"]))\n",
    "\n",
    "    bplot = ax.boxplot(\n",
    "        np.vstack(plotdata).T,\n",
    "        positions=positions,\n",
    "        labels=labels,\n",
    "        patch_artist=True,\n",
    "        widths=1,\n",
    "        showmeans=True,\n",
    "    )\n",
    "\n",
    "    base_colors = [\"cornflowerblue\", \"mediumaquamarine\", \"khaki\"]\n",
    "    colors = [c for _ in range(len(sample_sizes)) for c in base_colors]\n",
    "    for patch, color in zip(bplot[\"boxes\"], colors):\n",
    "        patch.set_facecolor(color)\n",
    "\n",
    "    custom_lines = [Line2D([0], [0], color=c, lw=4) for c in base_colors]\n",
    "    ax.legend(custom_lines, [\"POR\", \"PIPW\", \"PMR\"])\n",
    "\n",
    "    ax.axhline(y=0.0, color=\"k\", linestyle=\"--\", zorder=3)\n",
    "    # plt.ylim(-2.5, 2.5)\n",
    "    plt.xticks(positions[1 :: len(estimators)], sample_sizes)\n",
    "    plt.xlabel(\"Sample Size\")\n",
    "    plt.ylabel(\"Bias\")\n",
    "    plt.tight_layout()\n",
    "    # plt.savefig(\"assets/prox_hidmed_1d_sample_sizes_setup_%s.png\" % mode, dpi=500)\n",
    "    plt.show()"
   ]
  },
  {
   "cell_type": "code",
   "execution_count": null,
   "metadata": {},
   "outputs": [],
   "source": [
    "for setup in setups:\n",
    "    for dim in dims:\n",
    "        if dim == 1:\n",
    "            sample_sizes = [300, 600, 1200]\n",
    "        else:\n",
    "            sample_sizes = [1050, 2100, 4200]\n",
    "    \n",
    "        for n in sample_sizes:\n",
    "            # Generate the key for the current combination\n",
    "            key = (dim, setup, n, \"ProximalMultiplyRobust\")\n",
    "\n",
    "            # Check if the key exists in the dictionary\n",
    "            if key in results:\n",
    "                # Retrieve the sub-dictionary for the current key\n",
    "                data = results[key]\n",
    "\n",
    "                # Print averages for each metric\n",
    "                print(f\"Summary for {key}:\")\n",
    "                for metric in [\"estimate\", \"bias\", \"mse\", \"anb\", \"covered\", \"ci_width\"]:\n",
    "                    average = np.mean(data[metric])\n",
    "                    print(f\"  Average {metric}: {average:.4f}\")\n",
    "                print()"
   ]
  },
  {
   "cell_type": "code",
   "execution_count": null,
   "metadata": {},
   "outputs": [],
   "source": []
  }
 ],
 "metadata": {
  "kernelspec": {
   "display_name": "Python 3 (ipykernel)",
   "language": "python",
   "name": "python3"
  },
  "language_info": {
   "codemirror_mode": {
    "name": "ipython",
    "version": 3
   },
   "file_extension": ".py",
   "mimetype": "text/x-python",
   "name": "python",
   "nbconvert_exporter": "python",
   "pygments_lexer": "ipython3",
   "version": "3.9.0"
  }
 },
 "nbformat": 4,
 "nbformat_minor": 2
}
