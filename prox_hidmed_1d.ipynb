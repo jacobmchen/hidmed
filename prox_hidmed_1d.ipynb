{
 "cells": [
  {
   "cell_type": "code",
   "execution_count": 1,
   "metadata": {},
   "outputs": [],
   "source": [
    "%load_ext autoreload\n",
    "%autoreload 2"
   ]
  },
  {
   "cell_type": "code",
   "execution_count": 2,
   "metadata": {},
   "outputs": [],
   "source": [
    "import numpy as np\n",
    "from hidmed import *\n",
    "from tqdm import tqdm\n",
    "import pickle\n",
    "import matplotlib.pyplot as plt"
   ]
  },
  {
   "cell_type": "code",
   "execution_count": 3,
   "metadata": {},
   "outputs": [],
   "source": [
    "n = 4000\n",
    "xdim = 1\n",
    "zdim = 1\n",
    "wdim = 1\n",
    "mdim = 1\n",
    "udim = 1\n",
    "datagen = LinearHidMedDataset(xdim, zdim, wdim, mdim, udim, setup=\"a\")\n",
    "\n",
    "\n",
    "def sweep_hyperparameters(\n",
    "    n,\n",
    "    setup,\n",
    "    nonnegative=True,\n",
    "    azwy_nonnegative=False,\n",
    "    seed=0,\n",
    "    n_xfit=5,\n",
    "    n_max=10000,\n",
    "    maxfev=100,\n",
    "    gamma_h=None,\n",
    "    gamma_q=None,\n",
    "):\n",
    "    datagen = LinearHidMedDataset(\n",
    "        xdim,\n",
    "        zdim,\n",
    "        wdim,\n",
    "        mdim,\n",
    "        udim,\n",
    "        setup=setup,\n",
    "        nonnegative=nonnegative,\n",
    "        azwy_nonnegative=azwy_nonnegative,\n",
    "        seed=seed,\n",
    "    )\n",
    "    data = datagen.sample_dataset(n_max, seed=0)\n",
    "    if n_xfit == -1:\n",
    "        data = HidMedDataset(\n",
    "            data.get_X(np.arange(2 * n)),\n",
    "            data.get_U(np.arange(2 * n)),\n",
    "            data.get_A(np.arange(2 * n)),\n",
    "            data.get_M(np.arange(2 * n)),\n",
    "            data.get_W(np.arange(2 * n)),\n",
    "            data.get_Z(np.arange(2 * n)),\n",
    "            data.get_Y(np.arange(2 * n)),\n",
    "        )\n",
    "\n",
    "        est = ProximalHidMedRKHS(\n",
    "            data,\n",
    "            create_kernel(n_jobs=5, gamma=gamma_h),\n",
    "            create_kernel(n_jobs=5, gamma=gamma_q),\n",
    "        )\n",
    "        lambdas_h = est.optimize_lambdas(\"h\", 1, 2, maxfev=maxfev, grid_search=True)\n",
    "        lambdas_q = est.optimize_lambdas(\"q\", 1, 2, maxfev=maxfev, grid_search=True)\n",
    "    else:\n",
    "        data = HidMedDataset(\n",
    "            data.get_X(np.arange(n)),\n",
    "            data.get_U(np.arange(n)),\n",
    "            data.get_A(np.arange(n)),\n",
    "            data.get_M(np.arange(n)),\n",
    "            data.get_W(np.arange(n)),\n",
    "            data.get_Z(np.arange(n)),\n",
    "            data.get_Y(np.arange(n)),\n",
    "        )\n",
    "        est = ProximalHidMedRKHS(\n",
    "            data,\n",
    "            create_kernel(n_jobs=5, gamma=gamma_h),\n",
    "            create_kernel(n_jobs=5, gamma=gamma_q),\n",
    "        )\n",
    "        lambdas_h = est.optimize_lambdas(\n",
    "            \"h\", 1, n_xfit, maxfev=maxfev, grid_search=True\n",
    "        )\n",
    "        lambdas_q = est.optimize_lambdas(\n",
    "            \"q\", 1, n_xfit, maxfev=maxfev, grid_search=True\n",
    "        )\n",
    "    return lambdas_h, lambdas_q\n",
    "\n",
    "\n",
    "def run(\n",
    "    n,\n",
    "    runs,\n",
    "    setup,\n",
    "    lambdas_h,\n",
    "    lambdas_q,\n",
    "    alpha,\n",
    "    gamma_dr,\n",
    "    nonnegative=True,\n",
    "    azwy_nonnegative=False,\n",
    "    seed=0,\n",
    "    n_xfit=5,\n",
    "    n_max=10000,\n",
    "    gamma_h=None,\n",
    "    gamma_q=None,\n",
    "):\n",
    "    datagen = LinearHidMedDataset(\n",
    "        xdim,\n",
    "        zdim,\n",
    "        wdim,\n",
    "        mdim,\n",
    "        udim,\n",
    "        setup=setup,\n",
    "        nonnegative=nonnegative,\n",
    "        azwy_nonnegative=azwy_nonnegative,\n",
    "        seed=seed,\n",
    "    )\n",
    "\n",
    "    # ground truth\n",
    "    true_psi = datagen.true_psi(n=100000)\n",
    "\n",
    "    coverage_h = 0.0\n",
    "    coverage_q = 0.0\n",
    "    coverage_d = 0.0\n",
    "\n",
    "    ci_h = 0.0\n",
    "    ci_q = 0.0\n",
    "    ci_d = 0.0\n",
    "\n",
    "    bias_h = 0.0\n",
    "    bias_q = 0.0\n",
    "    bias_d = 0.0\n",
    "\n",
    "    var_h = 0.0\n",
    "    var_q = 0.0\n",
    "    var_d = 0.0\n",
    "\n",
    "    mse_h = 0.0\n",
    "    mse_q = 0.0\n",
    "    mse_d = 0.0\n",
    "\n",
    "    psi_est_h = []\n",
    "    psi_est_q = []\n",
    "    psi_est_d = []\n",
    "    for i in tqdm(range(runs)):\n",
    "        data = datagen.sample_dataset(n_max, seed=seed + i + 1)\n",
    "\n",
    "        if lambdas_h is None or lambdas_q is None:\n",
    "            data_tuning = HidMedDataset(\n",
    "                data.get_X(np.arange(2 * n)),\n",
    "                data.get_U(np.arange(2 * n)),\n",
    "                data.get_A(np.arange(2 * n)),\n",
    "                data.get_M(np.arange(2 * n)),\n",
    "                data.get_W(np.arange(2 * n)),\n",
    "                data.get_Z(np.arange(2 * n)),\n",
    "                data.get_Y(np.arange(2 * n)),\n",
    "            )\n",
    "            est_tuning = ProximalHidMedRKHS(\n",
    "                data_tuning,\n",
    "                create_kernel(n_jobs=5, gamma=gamma_h),\n",
    "                create_kernel(n_jobs=5, gamma=gamma_q),\n",
    "            )\n",
    "            lambdas_h = est_tuning.optimize_lambdas(\n",
    "                \"h\", 1, 2, maxfev=25, grid_search=True\n",
    "            )\n",
    "            lambdas_q = est_tuning.optimize_lambdas(\n",
    "                \"q\", 1, 2, maxfev=25, grid_search=True\n",
    "            )\n",
    "\n",
    "        data = HidMedDataset(\n",
    "            data.get_X(np.arange(n)),\n",
    "            data.get_U(np.arange(n)),\n",
    "            data.get_A(np.arange(n)),\n",
    "            data.get_M(np.arange(n)),\n",
    "            data.get_W(np.arange(n)),\n",
    "            data.get_Z(np.arange(n)),\n",
    "            data.get_Y(np.arange(n)),\n",
    "        )\n",
    "        est = ProximalHidMedRKHS(\n",
    "            data,\n",
    "            create_kernel(n_jobs=5, gamma=gamma_h),\n",
    "            create_kernel(n_jobs=5, gamma=gamma_q),\n",
    "        )\n",
    "\n",
    "        psi1_h = est.plugin_h(\n",
    "            lambdas_h,\n",
    "            1.0,\n",
    "            None,\n",
    "            n_xfit,\n",
    "            psis=1 if datagen.setup == \"a\" else 2,\n",
    "            get_raw=True,\n",
    "        )\n",
    "        # psi1_q = est.plugin_q_prop(lambdas_q, alpha, n_xfit, psis = 1 if datagen.setup == \"a\" else 2, get_raw=True)\n",
    "        psi1_q = est.plugin_q(\n",
    "            lambdas_q,\n",
    "            alpha,\n",
    "            gamma_q,\n",
    "            n_xfit,\n",
    "            psis=1 if datagen.setup == \"a\" else 2,\n",
    "            get_raw=True,\n",
    "        )\n",
    "        psi1_d = est.double_robust(\n",
    "            lambdas_h,\n",
    "            lambdas_q,\n",
    "            alpha,\n",
    "            gamma_dr,\n",
    "            n_xfit,\n",
    "            psis=1 if datagen.setup == \"a\" else 2,\n",
    "            get_raw=True,\n",
    "        )\n",
    "\n",
    "        psi_est_h.append(np.mean(psi1_h))\n",
    "        psi_est_q.append(np.mean(psi1_q))\n",
    "        psi_est_d.append(np.mean(psi1_d))\n",
    "\n",
    "        coverage_h += is_covered(psi1_h, true_psi) / runs\n",
    "        coverage_q += is_covered(psi1_q, true_psi) / runs\n",
    "        coverage_d += is_covered(psi1_d, true_psi) / runs\n",
    "\n",
    "        bias_h += (np.mean(psi1_h) - true_psi) / runs\n",
    "        bias_q += (np.mean(psi1_q) - true_psi) / runs\n",
    "        bias_d += (np.mean(psi1_d) - true_psi) / runs\n",
    "\n",
    "        var_h += np.var(psi1_h) / runs\n",
    "        var_q += np.var(psi1_q) / runs\n",
    "        var_d += np.var(psi1_d) / runs\n",
    "\n",
    "        mse_h += calculate_mse(psi1_h, true_psi) / runs\n",
    "        mse_q += calculate_mse(psi1_q, true_psi) / runs\n",
    "        mse_d += calculate_mse(psi1_d, true_psi) / runs\n",
    "\n",
    "        ci_h += 2 * (1.96 * np.std(psi1_h) / np.sqrt(len(psi1_h))) / runs\n",
    "        ci_q += 2 * (1.96 * np.std(psi1_q) / np.sqrt(len(psi1_q))) / runs\n",
    "        ci_d += 2 * (1.96 * np.std(psi1_d) / np.sqrt(len(psi1_d))) / runs\n",
    "\n",
    "    return {\n",
    "        \"psi_est_h\": psi_est_h,\n",
    "        \"psi_est_q\": psi_est_q,\n",
    "        \"psi_est_d\": psi_est_d,\n",
    "        \"true\": true_psi,\n",
    "        \"coverage_h\": coverage_h,\n",
    "        \"coverage_q\": coverage_q,\n",
    "        \"coverage_d\": coverage_d,\n",
    "        \"mse_h\": mse_h,\n",
    "        \"mse_q\": mse_q,\n",
    "        \"mse_d\": mse_d,\n",
    "        \"bias_h\": bias_h,\n",
    "        \"bias_q\": bias_q,\n",
    "        \"bias_d\": bias_d,\n",
    "        \"var_h\": var_h,\n",
    "        \"var_q\": var_q,\n",
    "        \"var_d\": var_d,\n",
    "        \"ci_h\": ci_h,\n",
    "        \"ci_q\": ci_q,\n",
    "        \"ci_d\": ci_d,\n",
    "    }"
   ]
  },
  {
   "cell_type": "markdown",
   "metadata": {},
   "source": [
    "# sweep sample sizes"
   ]
  },
  {
   "cell_type": "code",
   "execution_count": 4,
   "metadata": {},
   "outputs": [
    {
     "name": "stderr",
     "output_type": "stream",
     "text": [
      "100%|██████████| 10/10 [00:57<00:00,  5.73s/it]\n"
     ]
    },
    {
     "name": "stdout",
     "output_type": "stream",
     "text": [
      "a 4000\n",
      "[2.28652526e-08 1.37073588e-07] [2.28652526e-08 2.28652526e-08] 200 5\n",
      "coverages: 0.6 0.0 0.9999999999999999\n",
      "length: 0.12636526318457686 0.007617221434644011 0.29074078634745676\n",
      "MSEs: 0.004684941250606018 0.019361214426050252 0.00851008820568927\n",
      "anb:  0.020873067623307203 0.04906113261066252 0.0029546211476398684\n",
      "true:  2.0\n"
     ]
    },
    {
     "name": "stderr",
     "output_type": "stream",
     "text": [
      "100%|██████████| 10/10 [02:21<00:00, 14.19s/it]\n"
     ]
    },
    {
     "name": "stdout",
     "output_type": "stream",
     "text": [
      "a 6000\n",
      "[1.65311473e-08 9.91016246e-08] [1.65311473e-08 1.65311473e-08] 200 5\n",
      "coverages: 0.7 0.0 0.9999999999999999\n",
      "length: 0.10352859356202898 0.0063611961958391135 0.22237764025156997\n",
      "MSEs: 0.002679405860930032 0.005907558357346841 0.005245158721878492\n",
      "anb:  0.013502178472587344 0.0016975428973906802 0.003953559523239292\n",
      "true:  2.0\n"
     ]
    },
    {
     "name": "stderr",
     "output_type": "stream",
     "text": [
      "100%|██████████| 10/10 [04:43<00:00, 28.35s/it]\n"
     ]
    },
    {
     "name": "stdout",
     "output_type": "stream",
     "text": [
      "a 8000\n",
      "[1.31326390e-08 7.87281026e-08] [1.3132639e-08 1.3132639e-08] 200 5\n",
      "coverages: 0.6 0.0 0.8999999999999999\n",
      "length: 0.09043118973529203 0.0065971785974699125 0.18777990908254796\n",
      "MSEs: 0.002487621108655904 0.006320278794797594 0.004885179951955568\n",
      "anb:  0.012045543822740834 0.025046025801118806 0.004737081847714197\n",
      "true:  2.0\n"
     ]
    },
    {
     "name": "stderr",
     "output_type": "stream",
     "text": [
      "100%|██████████| 10/10 [00:57<00:00,  5.80s/it]\n"
     ]
    },
    {
     "name": "stdout",
     "output_type": "stream",
     "text": [
      "b 4000\n",
      "[2.28652526e-08 2.28652526e-08] [8.21734572e-07 1.37073588e-07] 5000 0.1\n",
      "coverages: 0.4 0.8999999999999999 0.7\n",
      "length: 0.0663926219575518 0.2500286427200972 0.16834022300427418\n",
      "MSEs: 0.005989876665353201 0.011414198208031561 0.007292172296641973\n",
      "anb:  0.09420278618221345 0.1782133780528247 0.0675785417918175\n",
      "true:  0.4051673142251253\n"
     ]
    },
    {
     "name": "stderr",
     "output_type": "stream",
     "text": [
      "100%|██████████| 10/10 [02:19<00:00, 13.91s/it]\n"
     ]
    },
    {
     "name": "stdout",
     "output_type": "stream",
     "text": [
      "b 6000\n",
      "[1.65311473e-08 1.65311473e-08] [5.94098631e-07 9.91016246e-08] 5000 0.1\n",
      "coverages: 0.6 0.7999999999999999 0.7999999999999999\n",
      "length: 0.05477324688397931 0.2308893111168784 0.13944050268696306\n",
      "MSEs: 0.002336153134065594 0.012200088151645859 0.0037344545002834214\n",
      "anb:  0.03257441263908319 0.22076584019534856 0.0050489788827868766\n",
      "true:  0.39321816254481695\n"
     ]
    },
    {
     "name": "stderr",
     "output_type": "stream",
     "text": [
      "100%|██████████| 10/10 [04:42<00:00, 28.21s/it]\n"
     ]
    },
    {
     "name": "stdout",
     "output_type": "stream",
     "text": [
      "b 8000\n",
      "[1.3132639e-08 1.3132639e-08] [4.71962576e-07 7.87281026e-08] 5000 0.1\n",
      "coverages: 0.7 0.7999999999999999 0.8999999999999999\n",
      "length: 0.04802870979585856 0.21529235831991422 0.12290642411316194\n",
      "MSEs: 0.0014263681211397908 0.011057606474082712 0.00254733146445234\n",
      "anb:  0.01802434530213638 0.21440600504989665 0.005509177623767155\n",
      "true:  0.39692239933320045\n"
     ]
    },
    {
     "name": "stderr",
     "output_type": "stream",
     "text": [
      "100%|██████████| 10/10 [00:57<00:00,  5.74s/it]\n"
     ]
    },
    {
     "name": "stdout",
     "output_type": "stream",
     "text": [
      "c 4000\n",
      "[2.28652526e-08 2.28652526e-08] [8.21734572e-07 1.37073588e-07] 5000 0.1\n",
      "coverages: 0.5 0.6 0.7999999999999999\n",
      "length: 0.0836010756092501 0.38587165915010246 0.22695437645118732\n",
      "MSEs: 0.006921140245947864 0.04193155125431068 0.009105245618097028\n",
      "anb:  0.028571877254266555 0.1191132685810723 0.014671242777561804\n",
      "true:  1.3987063702398013\n"
     ]
    },
    {
     "name": "stderr",
     "output_type": "stream",
     "text": [
      "100%|██████████| 10/10 [02:19<00:00, 13.93s/it]\n"
     ]
    },
    {
     "name": "stdout",
     "output_type": "stream",
     "text": [
      "c 6000\n",
      "[1.65311473e-08 1.65311473e-08] [5.94098631e-07 9.91016246e-08] 5000 0.1\n",
      "coverages: 0.6 0.7999999999999999 0.8999999999999999\n",
      "length: 0.06889074719361477 0.35747526777670846 0.18291144149205107\n",
      "MSEs: 0.00291828164498803 0.025012487221430797 0.0050024837111199115\n",
      "anb:  0.013956118390734441 0.08665627398857001 0.0013833277739005157\n",
      "true:  1.3957637109986292\n"
     ]
    },
    {
     "name": "stderr",
     "output_type": "stream",
     "text": [
      "100%|██████████| 10/10 [04:49<00:00, 28.92s/it]"
     ]
    },
    {
     "name": "stdout",
     "output_type": "stream",
     "text": [
      "c 8000\n",
      "[1.3132639e-08 1.3132639e-08] [4.71962576e-07 7.87281026e-08] 5000 0.1\n",
      "coverages: 0.7 0.9999999999999999 0.9999999999999999\n",
      "length: 0.06043057784094655 0.3333438036553459 0.15788937178149087\n",
      "MSEs: 0.0016130554662728135 0.01875808587811091 0.00338239694728529\n",
      "anb:  0.006542056730125004 0.07204866629530582 0.0002509124672781036\n",
      "true:  1.3985422793591717\n"
     ]
    },
    {
     "name": "stderr",
     "output_type": "stream",
     "text": [
      "\n"
     ]
    }
   ],
   "source": [
    "seed = 2\n",
    "\n",
    "# cross fitting folds\n",
    "n_xfit = 2\n",
    "\n",
    "# number of trials\n",
    "num_runs = 10\n",
    "\n",
    "# sweep sample sizes\n",
    "sample_sizes = [2000, 3000, 4000]\n",
    "if n_xfit > 0:\n",
    "    sample_sizes = [int(s * n_xfit / (n_xfit - 1)) for s in sample_sizes]\n",
    "\n",
    "# set some hyperparameters\n",
    "gammas = {\n",
    "    \"a\": np.array([1e-3, 1e-3, 1e-3]) * 5,\n",
    "    \"b\": np.array([1e-3, 1e-3, 1e-3]) * 0.5,\n",
    "    \"c\": np.array([1e-3, 1e-3, 1e-3]) * 0.5,\n",
    "}\n",
    "alphas = {\n",
    "    \"a\": [200, 200, 200],\n",
    "    \"b\": [5000, 5000, 5000],\n",
    "    \"c\": [5000, 5000, 5000],\n",
    "}\n",
    "gamma_drs = {\n",
    "    \"a\": [5, 5, 5],\n",
    "    \"b\": [100 * 1e-3, 100 * 1e-3, 100 * 1e-3],\n",
    "    \"c\": [1e-3 * 100, 1e-3 * 100, 1e-3 * 100],\n",
    "}\n",
    "\n",
    "results = {}\n",
    "for setup in [\"a\", \"b\", \"c\"]:\n",
    "    # choose minimax hyperparameters by validation\n",
    "    n_fit = sample_sizes[0]\n",
    "    lambdas_h, lambdas_q = sweep_hyperparameters(\n",
    "        n_fit,\n",
    "        setup,\n",
    "        seed=seed,\n",
    "        n_xfit=n_xfit,\n",
    "        maxfev=100,\n",
    "        gamma_h=gammas[setup][0],\n",
    "        gamma_q=gammas[setup][0],\n",
    "    )\n",
    "    lambdas_h_scale = lambdas_h * n_fit**0.8\n",
    "    lambdas_q_scale = lambdas_q * n_fit**0.8\n",
    "    for i in range(len(sample_sizes)):\n",
    "        n = sample_sizes[i]\n",
    "\n",
    "        lambdas_h = lambdas_h_scale / n**0.8\n",
    "        lambdas_q = lambdas_q_scale / n**0.8\n",
    "\n",
    "        # run estimator\n",
    "        results[n, setup] = run(\n",
    "            n,\n",
    "            num_runs,\n",
    "            setup,\n",
    "            lambdas_h,\n",
    "            lambdas_q,\n",
    "            alphas[setup][i],\n",
    "            gamma_drs[setup][i],\n",
    "            n_xfit=n_xfit,\n",
    "            gamma_h=gammas[setup][i],\n",
    "            gamma_q=gammas[setup][i],\n",
    "            seed=seed,\n",
    "        )\n",
    "\n",
    "        # calculate metrics\n",
    "        abs_norm_bias_h = (\n",
    "            np.abs(results[n, setup][\"bias_h\"]) / results[n, setup][\"true\"]\n",
    "        )\n",
    "        abs_norm_bias_q = (\n",
    "            np.abs(results[n, setup][\"bias_q\"]) / results[n, setup][\"true\"]\n",
    "        )\n",
    "        abs_norm_bias_d = (\n",
    "            np.abs(results[n, setup][\"bias_d\"]) / results[n, setup][\"true\"]\n",
    "        )\n",
    "\n",
    "        print(setup, n)\n",
    "        print(lambdas_h, lambdas_q, alphas[setup][i], gamma_drs[setup][i])\n",
    "        print(\n",
    "            \"coverages:\",\n",
    "            results[n, setup][\"coverage_h\"],\n",
    "            results[n, setup][\"coverage_q\"],\n",
    "            results[n, setup][\"coverage_d\"],\n",
    "        )\n",
    "        print(\n",
    "            \"length:\",\n",
    "            results[n, setup][\"ci_h\"],\n",
    "            results[n, setup][\"ci_q\"],\n",
    "            results[n, setup][\"ci_d\"],\n",
    "        )\n",
    "        print(\n",
    "            \"MSEs:\",\n",
    "            results[n, setup][\"mse_h\"],\n",
    "            results[n, setup][\"mse_q\"],\n",
    "            results[n, setup][\"mse_d\"],\n",
    "        )\n",
    "        print(\"anb: \", abs_norm_bias_h, abs_norm_bias_q, abs_norm_bias_d)\n",
    "        print(\"true: \", results[n, setup][\"true\"])"
   ]
  },
  {
   "cell_type": "code",
   "execution_count": 5,
   "metadata": {},
   "outputs": [],
   "source": [
    "import pickle\n",
    "\n",
    "pickle.dump(results, open(\"assets/prox_hidmed_1dim_results.pkl\", \"wb\"))"
   ]
  },
  {
   "cell_type": "code",
   "execution_count": 6,
   "metadata": {},
   "outputs": [
    {
     "data": {
      "image/png": "[encoded data removed]",
      "text/plain": [
       "<Figure size 864x576 with 1 Axes>"
      ]
     },
     "metadata": {
      "needs_background": "light"
     },
     "output_type": "display_data"
    },
    {
     "data": {
      "image/png": "[encoded data removed]",
      "text/plain": [
       "<Figure size 864x576 with 1 Axes>"
      ]
     },
     "metadata": {
      "needs_background": "light"
     },
     "output_type": "display_data"
    },
    {
     "data": {
      "image/png": "[encoded data removed]",
      "text/plain": [
       "<Figure size 864x576 with 1 Axes>"
      ]
     },
     "metadata": {
      "needs_background": "light"
     },
     "output_type": "display_data"
    }
   ],
   "source": [
    "import matplotlib\n",
    "from matplotlib.lines import Line2D\n",
    "\n",
    "keys = [\"psi_est_h\", \"psi_est_q\", \"psi_est_d\"]\n",
    "font = {\"size\": 16}\n",
    "matplotlib.rc(\"font\", **font)\n",
    "\n",
    "for mode in [\"a\", \"b\", \"c\"]:\n",
    "    idx = 1\n",
    "    positions = []\n",
    "    for col in range(len(sample_sizes)):\n",
    "        for i in range(len(keys)):\n",
    "            positions.append(idx)\n",
    "            idx += 1\n",
    "        idx += 2\n",
    "\n",
    "    labels = [\n",
    "        sample_sizes[col] if i == 2 else \" \"\n",
    "        for col in range(len(sample_sizes))\n",
    "        for i in range(3)\n",
    "    ]\n",
    "\n",
    "    fig, ax = plt.subplots(figsize=(2 * 3 * 2, 4 * 2))\n",
    "    plotdata = []\n",
    "    for n in sample_sizes:\n",
    "        for key in keys:\n",
    "            plotdata.append(np.array(results[n, mode][key]) - results[n, mode][\"true\"])\n",
    "\n",
    "    bplot = ax.boxplot(\n",
    "        np.vstack(plotdata).T,\n",
    "        positions=positions,\n",
    "        labels=labels,\n",
    "        patch_artist=True,\n",
    "        widths=1,\n",
    "        showmeans=True,\n",
    "    )\n",
    "    # bplot = ax.violinplot(np.vstack(plotdata).T, positions = positions, widths=1)\n",
    "\n",
    "    base_colors = [\"cornflowerblue\", \"mediumaquamarine\", \"khaki\"]\n",
    "    colors = [c for _ in range(len(sample_sizes)) for c in base_colors]\n",
    "    for patch, color in zip(bplot[\"boxes\"], colors):\n",
    "        patch.set_facecolor(color)\n",
    "\n",
    "    custom_lines = [Line2D([0], [0], color=c, lw=4) for c in base_colors]\n",
    "    ax.legend(custom_lines, [\"POR\", \"PIPW\", \"PMR\"])\n",
    "\n",
    "    ax.axhline(y=0.0, color=\"k\", linestyle=\"--\", zorder=3)\n",
    "    # plt.ylim(-2.5, 2.5)\n",
    "    plt.xticks(positions[1 :: len(keys)], sample_sizes)\n",
    "    plt.xlabel(\"Sample Size\")\n",
    "    plt.ylabel(\"Bias\")\n",
    "    plt.tight_layout()\n",
    "    plt.savefig(\"assets/prox_hidmed_1d_sample_sizes_setup_%s.png\" % mode, dpi=500)\n",
    "    plt.show()"
   ]
  },
  {
   "cell_type": "code",
   "execution_count": null,
   "metadata": {},
   "outputs": [],
   "source": []
  }
 ],
 "metadata": {
  "kernelspec": {
   "display_name": "Python 3.9.7 ('base')",
   "language": "python",
   "name": "python3"
  },
  "language_info": {
   "codemirror_mode": {
    "name": "ipython",
    "version": 3
   },
   "file_extension": ".py",
   "mimetype": "text/x-python",
   "name": "python",
   "nbconvert_exporter": "python",
   "pygments_lexer": "ipython3",
   "version": "3.9.7"
  },
  "orig_nbformat": 4,
  "vscode": {
   "interpreter": {
    "hash": "e4c15ece2f70dc4979f984114510b65d782a9d1cb730392f8b1353a03955a8c5"
   }
  }
 },
 "nbformat": 4,
 "nbformat_minor": 2
}
